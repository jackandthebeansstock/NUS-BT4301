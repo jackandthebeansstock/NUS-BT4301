{
  "nbformat": 4,
  "nbformat_minor": 0,
  "metadata": {
    "colab": {
      "provenance": []
    },
    "kernelspec": {
      "name": "python3",
      "display_name": "Python 3"
    },
    "language_info": {
      "name": "python"
    }
  },
  "cells": [
    {
      "cell_type": "code",
      "execution_count": 60,
      "metadata": {
        "id": "fUorBKASMegj"
      },
      "outputs": [],
      "source": [
        "import torch\n",
        "import torch.nn as nn\n",
        "import torch.optim as optim\n",
        "import torch.nn.functional as F\n",
        "import numpy as np\n",
        "import pandas as pd\n",
        "from sklearn.model_selection import train_test_split\n",
        "from sklearn.preprocessing import MinMaxScaler, LabelEncoder\n",
        "from sklearn.metrics import mean_squared_error, mean_absolute_error, confusion_matrix, precision_score, accuracy_score, recall_score, f1_score, r2_score, ndcg_score, roc_curve, auc, roc_auc_score\n",
        "from sklearn.feature_extraction.text import TfidfVectorizer\n",
        "from datetime import datetime as dt\n",
        "\n",
        "import warnings\n",
        "warnings.filterwarnings('ignore')"
      ]
    },
    {
      "cell_type": "code",
      "source": [
        "from google.colab import drive\n",
        "drive.mount('/content/drive')"
      ],
      "metadata": {
        "colab": {
          "base_uri": "https://localhost:8080/"
        },
        "id": "CMAKn_LFMikV",
        "outputId": "1c310771-8d80-443b-e9f4-ee12c97bd9cf"
      },
      "execution_count": 2,
      "outputs": [
        {
          "output_type": "stream",
          "name": "stdout",
          "text": [
            "Drive already mounted at /content/drive; to attempt to forcibly remount, call drive.mount(\"/content/drive\", force_remount=True).\n"
          ]
        }
      ]
    },
    {
      "cell_type": "code",
      "source": [
        "%cd drive/MyDrive/BT4301/Dataset"
      ],
      "metadata": {
        "colab": {
          "base_uri": "https://localhost:8080/"
        },
        "id": "jKd9Km_8MkiH",
        "outputId": "99ee5971-964a-4c9a-8d88-860ffb90031c"
      },
      "execution_count": 3,
      "outputs": [
        {
          "output_type": "stream",
          "name": "stdout",
          "text": [
            "/content/drive/.shortcut-targets-by-id/10UxIGmI1nRKsdfd_xARinm-FmI8_NeVG/BT4301/Dataset\n"
          ]
        }
      ]
    },
    {
      "cell_type": "markdown",
      "source": [
        "# Data Preprocessing"
      ],
      "metadata": {
        "id": "9LffoOHoMyyA"
      }
    },
    {
      "cell_type": "code",
      "source": [
        "def load_and_preprocess_data(review_data_path, metadata_path):\n",
        "    review_data = pd.read_csv(review_data_path)\n",
        "    metadata = pd.read_csv(metadata_path)\n",
        "    data = pd.merge(review_data, metadata, on=['parent_asin'])\n",
        "\n",
        "    # Preprocessing steps\n",
        "    data['rating'] = data['rating'].astype(float)\n",
        "    data.drop(columns=['verified_purchase'], inplace=True)\n",
        "    data['price'] = pd.to_numeric(data['price'], errors='coerce')\n",
        "    data['price'] = data['price'].fillna(0)\n",
        "    data['price'] = data['price'].astype(float)\n",
        "    data['timestamp'] = pd.to_datetime(data['timestamp'], unit='ms')\n",
        "    data['publication_date'] = pd.to_datetime(data['publication_date'], errors='coerce')\n",
        "    data['days_since_publication'] = (dt.now() - data['publication_date']).dt.days\n",
        "    data['days_since_publication'].fillna(data['days_since_publication'].mean(), inplace=True)\n",
        "\n",
        "    # Encode categorical variables\n",
        "    label_encoders = {}\n",
        "    for col in ['user_id', 'parent_asin', 'genre', 'author', 'language']:\n",
        "        label_encoders[col] = LabelEncoder()\n",
        "        data[col] = label_encoders[col].fit_transform(data[col].fillna('Unknown'))\n",
        "\n",
        "    # Normalize numerical features\n",
        "    scaler = MinMaxScaler()\n",
        "    numeric_cols = ['rating', 'average_rating', 'rating_number', 'price', 'days_since_publication']\n",
        "    data[numeric_cols] = scaler.fit_transform(data[numeric_cols])\n",
        "\n",
        "    # Apply TF-IDF on text data\n",
        "    data[['title', 'publisher']] = data[['title', 'publisher']].fillna('Unknown')\n",
        "    vectorizer_title = TfidfVectorizer(max_features=50)\n",
        "    title_tfidf = vectorizer_title.fit_transform(data['title']).toarray()\n",
        "    vectorizer_publisher = TfidfVectorizer(max_features=50)\n",
        "    publisher_tfidf = vectorizer_publisher.fit_transform(data['publisher']).toarray()\n",
        "\n",
        "    return data, label_encoders, title_tfidf, publisher_tfidf"
      ],
      "metadata": {
        "id": "9LT7ee0cM0ki"
      },
      "execution_count": 4,
      "outputs": []
    },
    {
      "cell_type": "code",
      "source": [
        "# Data loading and preprocessing\n",
        "data, label_encoders, title_tfidf, publisher_tfidf = load_and_preprocess_data(\n",
        "    review_data_path=\"book_reviews_with_sentiment_sample10k_segmented_withuserhistory.csv\",\n",
        "    metadata_path=\"old dataset/books_metadata.csv\"\n",
        ")"
      ],
      "metadata": {
        "id": "heDPZvIrOTni"
      },
      "execution_count": 11,
      "outputs": []
    },
    {
      "cell_type": "code",
      "source": [
        "def create_sequences_with_ratings(data, seq_length, title_tfidf, publisher_tfidf):\n",
        "    sequences = []\n",
        "    targets = []\n",
        "    numeric_cols = [column for column in data.columns.tolist()\n",
        "                    if data[column].dtype in ('int64', 'float64')\n",
        "                    and column not in ['rating', 'user_id', 'parent_asin', 'cluster_1', 'cluster_2', 'cluster_3', 'cluster_4']]\n",
        "    groups = data.sort_values('timestamp').groupby('user_id')\n",
        "\n",
        "    for user_id, group in groups:\n",
        "        if len(group) >= seq_length:\n",
        "            for i in range(len(group) - seq_length + 1):\n",
        "                numeric_seq = group[numeric_cols].iloc[i:i + seq_length].values\n",
        "                title_seq = title_tfidf[group.index[i:i + seq_length]]\n",
        "                publisher_seq = publisher_tfidf[group.index[i:i + seq_length]]\n",
        "\n",
        "                # Ensure all categorical features are converted to numeric\n",
        "                parent_asin_seq = group['parent_asin'].iloc[i:i + seq_length].values.reshape(-1, 1).astype(np.float32)\n",
        "                genre_seq = group['genre'].iloc[i:i + seq_length].values.reshape(-1, 1).astype(np.float32)\n",
        "                author_seq = group['author'].iloc[i:i + seq_length].values.reshape(-1, 1).astype(np.float32)\n",
        "                language_seq = group['language'].iloc[i:i + seq_length].values.reshape(-1, 1).astype(np.float32)\n",
        "\n",
        "                seq = np.concatenate([numeric_seq, parent_asin_seq, genre_seq,\n",
        "                                      author_seq, language_seq, title_seq,\n",
        "                                      publisher_seq], axis=1)\n",
        "                sequences.append(seq)\n",
        "\n",
        "                # Target is the rating for the current book\n",
        "                target_val = group['rating'].iloc[i + seq_length - 1]\n",
        "                targets.append(target_val)\n",
        "\n",
        "    return torch.tensor(np.array(sequences), dtype=torch.float32), torch.tensor(np.array(targets), dtype=torch.float32)"
      ],
      "metadata": {
        "id": "qyZITnKcNDie"
      },
      "execution_count": 5,
      "outputs": []
    },
    {
      "cell_type": "code",
      "source": [
        "# Create sequences\n",
        "X, y = create_sequences_with_ratings(data, seq_length, title_tfidf, publisher_tfidf)"
      ],
      "metadata": {
        "id": "5uHj46x-OWoy"
      },
      "execution_count": 12,
      "outputs": []
    },
    {
      "cell_type": "code",
      "source": [
        "# Train-test split with time-based validation\n",
        "split_idx = int(0.8 * len(X))\n",
        "X_train, X_test = X[:split_idx], X[split_idx:]\n",
        "y_train, y_test = y[:split_idx], y[split_idx:]"
      ],
      "metadata": {
        "id": "HJ5B_Vx3Oe6h"
      },
      "execution_count": 13,
      "outputs": []
    },
    {
      "cell_type": "markdown",
      "source": [
        "# LSTM Model"
      ],
      "metadata": {
        "id": "PkOMxDMrNOcM"
      }
    },
    {
      "cell_type": "code",
      "source": [
        "class LSTMRecommender(nn.Module):\n",
        "    def __init__(self, num_books, embedding_dim, hidden_size, num_layers, input_size):\n",
        "        super(LSTMRecommender, self).__init__()\n",
        "        self.book_embedding = nn.Embedding(num_books, embedding_dim)\n",
        "        self.lstm = nn.LSTM(input_size, hidden_size, num_layers, batch_first=True)  # Use input_size here\n",
        "        self.fc = nn.Linear(hidden_size, 1)\n",
        "\n",
        "    def forward(self, x):\n",
        "        num_features = x[:, :, :156] # Numerical features\n",
        "        parent_asin = x[:, :, 156].long() # parent_asin\n",
        "        genre = x[:, :, 157].long() # genre\n",
        "        author = x[:, :, 158].long() # author\n",
        "        language = x[:, :, 159].long() # language\n",
        "        title_tfidf = x[:, :, 160:210] # title_tfidf\n",
        "        publisher_tfidf = x[:, :, 210:] # publisher_tfidf\n",
        "\n",
        "        # Get embeddings for categorical features\n",
        "        parent_asin_emb = self.book_embedding(parent_asin)\n",
        "\n",
        "        # Concatenate all features\n",
        "        # Ensure genre, author, and language are converted to float and have the correct dimensions\n",
        "        all_features = torch.cat([num_features, parent_asin_emb, title_tfidf, publisher_tfidf,\n",
        "                                  genre.unsqueeze(-1).float(), author.unsqueeze(-1).float(),\n",
        "                                  language.unsqueeze(-1).float()], dim=2)\n",
        "\n",
        "        # Pass through LSTM\n",
        "        lstm_out, _ = self.lstm(all_features)\n",
        "\n",
        "        # Get output for the last time step\n",
        "        output = self.fc(lstm_out[:, -1, :])\n",
        "\n",
        "        return output"
      ],
      "metadata": {
        "id": "udZVMVpzNRPS"
      },
      "execution_count": 31,
      "outputs": []
    },
    {
      "cell_type": "code",
      "source": [
        "def train_model(model, X_train, y_train, num_epochs, learning_rate, batch_size):\n",
        "    optimizer = optim.Adam(model.parameters(), lr=learning_rate)\n",
        "    criterion = nn.MSELoss()\n",
        "\n",
        "    for epoch in range(num_epochs):\n",
        "        total_loss = 0  # Accumulate loss for the epoch\n",
        "        num_batches = 0  # Count batches\n",
        "\n",
        "        for i in range(0, len(X_train), batch_size):\n",
        "            batch_X = X_train[i:i + batch_size]\n",
        "            batch_y = y_train[i:i + batch_size]\n",
        "\n",
        "            optimizer.zero_grad()\n",
        "            outputs = model(batch_X)\n",
        "            loss = criterion(outputs, batch_y)\n",
        "            loss.backward()\n",
        "            optimizer.step()\n",
        "\n",
        "            total_loss += loss.item()\n",
        "            num_batches += 1\n",
        "\n",
        "        avg_loss = total_loss / num_batches  # Calculate average loss for the epoch\n",
        "        print(f\"Epoch [{epoch + 1}/{num_epochs}], Loss: {avg_loss:.4f}\")"
      ],
      "metadata": {
        "id": "LIChA1eyNT6g"
      },
      "execution_count": 32,
      "outputs": []
    },
    {
      "cell_type": "code",
      "source": [
        "def predict_rating(model, input_sequence):\n",
        "    with torch.no_grad():\n",
        "        output = model(input_sequence.unsqueeze(0)) # Add batch dimension\n",
        "        predicted_rating = output.item()\n",
        "\n",
        "    return predicted_rating"
      ],
      "metadata": {
        "id": "WYmVi_pzNdN8"
      },
      "execution_count": 33,
      "outputs": []
    },
    {
      "cell_type": "code",
      "source": [
        "def evaluate_model(model, X_test, y_test, threshold=0.5):\n",
        "    \"\"\"Evaluates the model on the test set.\"\"\"\n",
        "    y_pred = [predict_rating(model, seq) for seq in X_test]\n",
        "\n",
        "    if np.isnan(y_pred).any():\n",
        "        y_pred = np.nan_to_num(y_pred)\n",
        "\n",
        "    y_test = y_test.numpy()\n",
        "    y_pred = np.array(y_pred)\n",
        "\n",
        "    y_pred_rank = np.argsort(np.argsort(-y_pred)) + 1\n",
        "    ndcg = ndcg_score(y_test.reshape(1, -1), y_pred_rank.reshape(1, -1))\n",
        "\n",
        "    # Reshape y_test and y_pred to be 2D arrays\n",
        "    y_test = y_test.reshape(-1, 1)\n",
        "    y_pred = y_pred.reshape(-1, 1)\n",
        "\n",
        "    mse = mean_squared_error(y_test, y_pred)\n",
        "    rmse = np.sqrt(mse)\n",
        "    mae = mean_absolute_error(y_test, y_pred)\n",
        "    r2 = r2_score(y_test, y_pred)\n",
        "\n",
        "    y_test_binary = (y_test >= threshold).astype(int)\n",
        "    y_pred_binary = (y_pred >= threshold).astype(int)\n",
        "\n",
        "    precision = precision_score(y_test_binary, y_pred_binary)\n",
        "    recall = recall_score(y_test_binary, y_pred_binary)\n",
        "    f1 = f1_score(y_test_binary, y_pred_binary)\n",
        "    auc = roc_auc_score(y_test_binary, y_pred_binary)\n",
        "    accuracy = accuracy_score(y_test_binary, y_pred_binary)\n",
        "\n",
        "    print(f\"MSE: {mse}\\nRMSE: {rmse}\\nMAE: {mae}\\nR2: {r2}\\nPrecision: {precision}\\nNDCG: {ndcg}\\nRecall: {recall}\\nF1: {f1}\\nAUC: {auc}\\nAccuracy: {accuracy}\")"
      ],
      "metadata": {
        "id": "qo6qOq0MNiRS"
      },
      "execution_count": 72,
      "outputs": []
    },
    {
      "cell_type": "markdown",
      "source": [
        "# Execution"
      ],
      "metadata": {
        "id": "R9IpDEUrOHQr"
      }
    },
    {
      "cell_type": "code",
      "source": [
        "embedding_dim = 64\n",
        "hidden_size = 64\n",
        "num_layers = 2\n",
        "num_epochs = 10\n",
        "learning_rate = 0.01\n",
        "batch_size = 64\n",
        "seq_length = 10"
      ],
      "metadata": {
        "id": "j9WRBbKoORIl"
      },
      "execution_count": 39,
      "outputs": []
    },
    {
      "cell_type": "code",
      "source": [
        "# Model instantiation and training\n",
        "num_books = data['parent_asin'].nunique()\n",
        "numeric_cols = [column for column in data.columns.tolist()\n",
        "                if data[column].dtype in ('int64', 'float64')\n",
        "                and column not in ['rating', 'user_id', 'parent_asin', 'cluster_1', 'cluster_2', 'cluster_3', 'cluster_4']]\n",
        "input_size = len(numeric_cols) + embedding_dim + 50 + 50 + 3\n",
        "\n",
        "model = LSTMRecommender(num_books, embedding_dim, hidden_size, num_layers, input_size)\n",
        "train_model(model, X_train, y_train, num_epochs, learning_rate, batch_size)"
      ],
      "metadata": {
        "colab": {
          "base_uri": "https://localhost:8080/"
        },
        "id": "KpEvzzgZOhDo",
        "outputId": "4b3cd795-18a5-42b7-fcc5-5ffbec02e911"
      },
      "execution_count": 40,
      "outputs": [
        {
          "output_type": "stream",
          "name": "stdout",
          "text": [
            "Epoch [1/10], Loss: nan\n",
            "Epoch [2/10], Loss: nan\n",
            "Epoch [3/10], Loss: nan\n",
            "Epoch [4/10], Loss: nan\n",
            "Epoch [5/10], Loss: nan\n",
            "Epoch [6/10], Loss: nan\n",
            "Epoch [7/10], Loss: nan\n",
            "Epoch [8/10], Loss: nan\n",
            "Epoch [9/10], Loss: nan\n",
            "Epoch [10/10], Loss: nan\n"
          ]
        }
      ]
    },
    {
      "cell_type": "code",
      "source": [
        "# Evaluation\n",
        "evaluate_model(model, X_test, y_test)"
      ],
      "metadata": {
        "colab": {
          "base_uri": "https://localhost:8080/"
        },
        "id": "S6ASBv3LOiiz",
        "outputId": "40fa0687-617b-4a9f-f99a-f725ef5807d1"
      },
      "execution_count": 73,
      "outputs": [
        {
          "output_type": "stream",
          "name": "stdout",
          "text": [
            "MSE: 0.8311034142140722\n",
            "RMSE: 0.9116487340056323\n",
            "MAE: 0.8847702750620536\n",
            "R2: -16.212464569598023\n",
            "Precision: 0.0\n",
            "NDCG: 0.9853275702399711\n",
            "Recall: 0.0\n",
            "F1: 0.0\n",
            "AUC: 0.5\n",
            "Accuracy: 0.04559039562332202\n"
          ]
        }
      ]
    }
  ]
}
