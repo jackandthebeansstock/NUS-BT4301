{
 "cells": [
  {
   "cell_type": "markdown",
   "metadata": {},
   "source": [
    "# Loading libraries"
   ]
  },
  {
   "cell_type": "code",
   "execution_count": 1,
   "metadata": {},
   "outputs": [],
   "source": [
    "import gzip\n",
    "import json\n",
    "from tqdm import tqdm\n",
    "import numpy as np\n",
    "import pandas as pd\n",
    "import matplotlib.pyplot as plt\n",
    "import seaborn as sns"
   ]
  },
  {
   "cell_type": "markdown",
   "metadata": {},
   "source": [
    "# Reading datasets"
   ]
  },
  {
   "cell_type": "markdown",
   "metadata": {},
   "source": [
    "## Reviews dataset"
   ]
  },
  {
   "cell_type": "code",
   "execution_count": 2,
   "metadata": {},
   "outputs": [],
   "source": [
    "# Specify the path to your Parquet file\n",
    "reviews_file = '/Users/ShanShan/BT4301/MySQL/test/cleaned/results2/book_reviews_with_sentiment_final.csv'\n",
    "\n",
    "# Read the Parquet file into a pandas DataFrame\n",
    "reviews_df = pd.read_csv(reviews_file)"
   ]
  },
  {
   "cell_type": "code",
   "execution_count": 3,
   "metadata": {},
   "outputs": [
    {
     "name": "stdout",
     "output_type": "stream",
     "text": [
      "<class 'pandas.core.frame.DataFrame'>\n",
      "RangeIndex: 1310329 entries, 0 to 1310328\n",
      "Data columns (total 8 columns):\n",
      " #   Column             Non-Null Count    Dtype  \n",
      "---  ------             --------------    -----  \n",
      " 0   rating             1310329 non-null  float64\n",
      " 1   title              1310285 non-null  object \n",
      " 2   text               1310308 non-null  object \n",
      " 3   parent_asin        1310329 non-null  object \n",
      " 4   user_id            1310329 non-null  object \n",
      " 5   timestamp          1310329 non-null  int64  \n",
      " 6   verified_purchase  1310329 non-null  bool   \n",
      " 7   sentiment_score    1310329 non-null  float64\n",
      "dtypes: bool(1), float64(2), int64(1), object(4)\n",
      "memory usage: 71.2+ MB\n"
     ]
    }
   ],
   "source": [
    "reviews_df.info()"
   ]
  },
  {
   "cell_type": "code",
   "execution_count": 4,
   "metadata": {},
   "outputs": [
    {
     "data": {
      "text/plain": [
       "(1310329, 8)"
      ]
     },
     "execution_count": 4,
     "metadata": {},
     "output_type": "execute_result"
    }
   ],
   "source": [
    "reviews_df.shape"
   ]
  },
  {
   "cell_type": "code",
   "execution_count": 5,
   "metadata": {},
   "outputs": [
    {
     "data": {
      "text/plain": [
       "Index(['rating', 'title', 'text', 'parent_asin', 'user_id', 'timestamp',\n",
       "       'verified_purchase', 'sentiment_score'],\n",
       "      dtype='object')"
      ]
     },
     "execution_count": 5,
     "metadata": {},
     "output_type": "execute_result"
    }
   ],
   "source": [
    "reviews_df.columns"
   ]
  },
  {
   "cell_type": "code",
   "execution_count": 6,
   "metadata": {},
   "outputs": [
    {
     "data": {
      "text/html": [
       "<div>\n",
       "<style scoped>\n",
       "    .dataframe tbody tr th:only-of-type {\n",
       "        vertical-align: middle;\n",
       "    }\n",
       "\n",
       "    .dataframe tbody tr th {\n",
       "        vertical-align: top;\n",
       "    }\n",
       "\n",
       "    .dataframe thead th {\n",
       "        text-align: right;\n",
       "    }\n",
       "</style>\n",
       "<table border=\"1\" class=\"dataframe\">\n",
       "  <thead>\n",
       "    <tr style=\"text-align: right;\">\n",
       "      <th></th>\n",
       "      <th>rating</th>\n",
       "      <th>title</th>\n",
       "      <th>text</th>\n",
       "      <th>parent_asin</th>\n",
       "      <th>user_id</th>\n",
       "      <th>timestamp</th>\n",
       "      <th>verified_purchase</th>\n",
       "      <th>sentiment_score</th>\n",
       "    </tr>\n",
       "  </thead>\n",
       "  <tbody>\n",
       "    <tr>\n",
       "      <th>0</th>\n",
       "      <td>5.0</td>\n",
       "      <td>Beware....</td>\n",
       "      <td>Another fun story in the series. Jessica has h...</td>\n",
       "      <td>B0871P5Q8P</td>\n",
       "      <td>AFFZVSTUS3U2ZD22A2NPZSKOCPGQ</td>\n",
       "      <td>1588609906893</td>\n",
       "      <td>True</td>\n",
       "      <td>0.970070</td>\n",
       "    </tr>\n",
       "    <tr>\n",
       "      <th>1</th>\n",
       "      <td>5.0</td>\n",
       "      <td>Action page turner</td>\n",
       "      <td>This is such a good read..a real page turner!!...</td>\n",
       "      <td>B07YZPBN4T</td>\n",
       "      <td>AFFZVSTUS3U2ZD22A2NPZSKOCPGQ</td>\n",
       "      <td>1587964626726</td>\n",
       "      <td>True</td>\n",
       "      <td>0.994910</td>\n",
       "    </tr>\n",
       "    <tr>\n",
       "      <th>2</th>\n",
       "      <td>5.0</td>\n",
       "      <td>Strong seals, strong women</td>\n",
       "      <td>What an amazing storyline. Murph is the main m...</td>\n",
       "      <td>B0859J266D</td>\n",
       "      <td>AFFZVSTUS3U2ZD22A2NPZSKOCPGQ</td>\n",
       "      <td>1586927648767</td>\n",
       "      <td>True</td>\n",
       "      <td>0.999575</td>\n",
       "    </tr>\n",
       "    <tr>\n",
       "      <th>3</th>\n",
       "      <td>5.0</td>\n",
       "      <td>Another award winner for this author.</td>\n",
       "      <td>This story was much better than I expected..an...</td>\n",
       "      <td>B07R5CL3P1</td>\n",
       "      <td>AFFZVSTUS3U2ZD22A2NPZSKOCPGQ</td>\n",
       "      <td>1575174798385</td>\n",
       "      <td>True</td>\n",
       "      <td>0.620722</td>\n",
       "    </tr>\n",
       "    <tr>\n",
       "      <th>4</th>\n",
       "      <td>5.0</td>\n",
       "      <td>Wonderful story!!!</td>\n",
       "      <td>Well just when you think this series cant get ...</td>\n",
       "      <td>B07XTQ39VK</td>\n",
       "      <td>AFFZVSTUS3U2ZD22A2NPZSKOCPGQ</td>\n",
       "      <td>1573664213687</td>\n",
       "      <td>True</td>\n",
       "      <td>0.994292</td>\n",
       "    </tr>\n",
       "  </tbody>\n",
       "</table>\n",
       "</div>"
      ],
      "text/plain": [
       "   rating                                  title  \\\n",
       "0     5.0                             Beware....   \n",
       "1     5.0                     Action page turner   \n",
       "2     5.0             Strong seals, strong women   \n",
       "3     5.0  Another award winner for this author.   \n",
       "4     5.0                     Wonderful story!!!   \n",
       "\n",
       "                                                text parent_asin  \\\n",
       "0  Another fun story in the series. Jessica has h...  B0871P5Q8P   \n",
       "1  This is such a good read..a real page turner!!...  B07YZPBN4T   \n",
       "2  What an amazing storyline. Murph is the main m...  B0859J266D   \n",
       "3  This story was much better than I expected..an...  B07R5CL3P1   \n",
       "4  Well just when you think this series cant get ...  B07XTQ39VK   \n",
       "\n",
       "                        user_id      timestamp  verified_purchase  \\\n",
       "0  AFFZVSTUS3U2ZD22A2NPZSKOCPGQ  1588609906893               True   \n",
       "1  AFFZVSTUS3U2ZD22A2NPZSKOCPGQ  1587964626726               True   \n",
       "2  AFFZVSTUS3U2ZD22A2NPZSKOCPGQ  1586927648767               True   \n",
       "3  AFFZVSTUS3U2ZD22A2NPZSKOCPGQ  1575174798385               True   \n",
       "4  AFFZVSTUS3U2ZD22A2NPZSKOCPGQ  1573664213687               True   \n",
       "\n",
       "   sentiment_score  \n",
       "0         0.970070  \n",
       "1         0.994910  \n",
       "2         0.999575  \n",
       "3         0.620722  \n",
       "4         0.994292  "
      ]
     },
     "execution_count": 6,
     "metadata": {},
     "output_type": "execute_result"
    }
   ],
   "source": [
    "# Display the first few rows\n",
    "reviews_df.head()"
   ]
  },
  {
   "cell_type": "markdown",
   "metadata": {},
   "source": [
    "## Meta dataset"
   ]
  },
  {
   "cell_type": "code",
   "execution_count": 7,
   "metadata": {},
   "outputs": [],
   "source": [
    "# Specify the path to your Parquet file\n",
    "meta_parquet_file = '/Users/ShanShan/BT4301/MySQL/test/cleaned/results2/books_metadata.csv'\n",
    "\n",
    "# Read the Parquet file into a pandas DataFrame\n",
    "meta_df = pd.read_csv(meta_parquet_file)"
   ]
  },
  {
   "cell_type": "code",
   "execution_count": 8,
   "metadata": {},
   "outputs": [
    {
     "name": "stdout",
     "output_type": "stream",
     "text": [
      "<class 'pandas.core.frame.DataFrame'>\n",
      "RangeIndex: 1591371 entries, 0 to 1591370\n",
      "Data columns (total 10 columns):\n",
      " #   Column            Non-Null Count    Dtype  \n",
      "---  ------            --------------    -----  \n",
      " 0   title             1591371 non-null  object \n",
      " 1   average_rating    1591371 non-null  float64\n",
      " 2   rating_number     1591371 non-null  int64  \n",
      " 3   price             1375812 non-null  object \n",
      " 4   parent_asin       1591371 non-null  object \n",
      " 5   author            1591060 non-null  object \n",
      " 6   genre             1591371 non-null  object \n",
      " 7   publisher         994493 non-null   object \n",
      " 8   publication_date  1532776 non-null  object \n",
      " 9   language          1533286 non-null  object \n",
      "dtypes: float64(1), int64(1), object(8)\n",
      "memory usage: 121.4+ MB\n"
     ]
    }
   ],
   "source": [
    "meta_df.info()"
   ]
  },
  {
   "cell_type": "code",
   "execution_count": 9,
   "metadata": {},
   "outputs": [
    {
     "data": {
      "text/plain": [
       "(1591371, 10)"
      ]
     },
     "execution_count": 9,
     "metadata": {},
     "output_type": "execute_result"
    }
   ],
   "source": [
    "meta_df.shape"
   ]
  },
  {
   "cell_type": "code",
   "execution_count": 10,
   "metadata": {},
   "outputs": [
    {
     "data": {
      "text/plain": [
       "Index(['title', 'average_rating', 'rating_number', 'price', 'parent_asin',\n",
       "       'author', 'genre', 'publisher', 'publication_date', 'language'],\n",
       "      dtype='object')"
      ]
     },
     "execution_count": 10,
     "metadata": {},
     "output_type": "execute_result"
    }
   ],
   "source": [
    "meta_df.columns"
   ]
  },
  {
   "cell_type": "code",
   "execution_count": 11,
   "metadata": {},
   "outputs": [
    {
     "data": {
      "text/html": [
       "<div>\n",
       "<style scoped>\n",
       "    .dataframe tbody tr th:only-of-type {\n",
       "        vertical-align: middle;\n",
       "    }\n",
       "\n",
       "    .dataframe tbody tr th {\n",
       "        vertical-align: top;\n",
       "    }\n",
       "\n",
       "    .dataframe thead th {\n",
       "        text-align: right;\n",
       "    }\n",
       "</style>\n",
       "<table border=\"1\" class=\"dataframe\">\n",
       "  <thead>\n",
       "    <tr style=\"text-align: right;\">\n",
       "      <th></th>\n",
       "      <th>title</th>\n",
       "      <th>average_rating</th>\n",
       "      <th>rating_number</th>\n",
       "      <th>price</th>\n",
       "      <th>parent_asin</th>\n",
       "      <th>author</th>\n",
       "      <th>genre</th>\n",
       "      <th>publisher</th>\n",
       "      <th>publication_date</th>\n",
       "      <th>language</th>\n",
       "    </tr>\n",
       "  </thead>\n",
       "  <tbody>\n",
       "    <tr>\n",
       "      <th>0</th>\n",
       "      <td>The Palace (Chateau Book 4)</td>\n",
       "      <td>4.7</td>\n",
       "      <td>970</td>\n",
       "      <td>0.0</td>\n",
       "      <td>B08XPZPFY4</td>\n",
       "      <td>Penelope Sky</td>\n",
       "      <td>Romance</td>\n",
       "      <td>Hartwick Publishing (May 25, 2021)</td>\n",
       "      <td>May 25, 2021</td>\n",
       "      <td>English</td>\n",
       "    </tr>\n",
       "    <tr>\n",
       "      <th>1</th>\n",
       "      <td>Microsoft PowerPoint 2016 2013 2010 2007 Tips ...</td>\n",
       "      <td>4.3</td>\n",
       "      <td>35</td>\n",
       "      <td>0.0</td>\n",
       "      <td>B07DH1LF1K</td>\n",
       "      <td>Amelia Griggs</td>\n",
       "      <td>Computers &amp; Technology</td>\n",
       "      <td>NaN</td>\n",
       "      <td>June 2, 2018</td>\n",
       "      <td>English</td>\n",
       "    </tr>\n",
       "    <tr>\n",
       "      <th>2</th>\n",
       "      <td>Ill Wind (Anna Pigeon Mysteries Book 3)</td>\n",
       "      <td>4.4</td>\n",
       "      <td>1628</td>\n",
       "      <td>7.99</td>\n",
       "      <td>B0022Q8CTQ</td>\n",
       "      <td>Nevada Barr</td>\n",
       "      <td>Mystery, Thriller &amp; Suspense</td>\n",
       "      <td>Berkley; Reissue edition (March 29, 2009)</td>\n",
       "      <td>March 29, 2009</td>\n",
       "      <td>English</td>\n",
       "    </tr>\n",
       "    <tr>\n",
       "      <th>3</th>\n",
       "      <td>30 Healthy Easy Quick Lentil Recipes (Brad Arm...</td>\n",
       "      <td>3.8</td>\n",
       "      <td>47</td>\n",
       "      <td>0.0</td>\n",
       "      <td>B00BS56MLC</td>\n",
       "      <td>Brad Armstrong</td>\n",
       "      <td>Health, Fitness &amp; Dieting</td>\n",
       "      <td>Brad Armstrong (March 10, 2013)</td>\n",
       "      <td>March 10, 2013</td>\n",
       "      <td>English</td>\n",
       "    </tr>\n",
       "    <tr>\n",
       "      <th>4</th>\n",
       "      <td>The Road Home</td>\n",
       "      <td>4.5</td>\n",
       "      <td>475</td>\n",
       "      <td>10.44</td>\n",
       "      <td>B00155EZRS</td>\n",
       "      <td>Jim Harrison</td>\n",
       "      <td>Literature &amp; Fiction</td>\n",
       "      <td>Atlantic Monthly Press (December 1, 2007)</td>\n",
       "      <td>December 1, 2007</td>\n",
       "      <td>English</td>\n",
       "    </tr>\n",
       "  </tbody>\n",
       "</table>\n",
       "</div>"
      ],
      "text/plain": [
       "                                               title  average_rating  \\\n",
       "0                        The Palace (Chateau Book 4)             4.7   \n",
       "1  Microsoft PowerPoint 2016 2013 2010 2007 Tips ...             4.3   \n",
       "2            Ill Wind (Anna Pigeon Mysteries Book 3)             4.4   \n",
       "3  30 Healthy Easy Quick Lentil Recipes (Brad Arm...             3.8   \n",
       "4                                      The Road Home             4.5   \n",
       "\n",
       "   rating_number  price parent_asin          author  \\\n",
       "0            970    0.0  B08XPZPFY4    Penelope Sky   \n",
       "1             35    0.0  B07DH1LF1K   Amelia Griggs   \n",
       "2           1628   7.99  B0022Q8CTQ     Nevada Barr   \n",
       "3             47    0.0  B00BS56MLC  Brad Armstrong   \n",
       "4            475  10.44  B00155EZRS    Jim Harrison   \n",
       "\n",
       "                          genre                                  publisher  \\\n",
       "0                       Romance         Hartwick Publishing (May 25, 2021)   \n",
       "1        Computers & Technology                                        NaN   \n",
       "2  Mystery, Thriller & Suspense  Berkley; Reissue edition (March 29, 2009)   \n",
       "3     Health, Fitness & Dieting            Brad Armstrong (March 10, 2013)   \n",
       "4          Literature & Fiction  Atlantic Monthly Press (December 1, 2007)   \n",
       "\n",
       "   publication_date language  \n",
       "0      May 25, 2021  English  \n",
       "1      June 2, 2018  English  \n",
       "2    March 29, 2009  English  \n",
       "3    March 10, 2013  English  \n",
       "4  December 1, 2007  English  "
      ]
     },
     "execution_count": 11,
     "metadata": {},
     "output_type": "execute_result"
    }
   ],
   "source": [
    "# Display the first few rows\n",
    "meta_df.head()"
   ]
  },
  {
   "cell_type": "markdown",
   "metadata": {},
   "source": [
    "# Check for missing values"
   ]
  },
  {
   "cell_type": "markdown",
   "metadata": {},
   "source": [
    "## Reviews dataset"
   ]
  },
  {
   "cell_type": "code",
   "execution_count": 12,
   "metadata": {},
   "outputs": [
    {
     "data": {
      "text/plain": [
       "rating                0\n",
       "title                44\n",
       "text                 21\n",
       "parent_asin           0\n",
       "user_id               0\n",
       "timestamp             0\n",
       "verified_purchase     0\n",
       "sentiment_score       0\n",
       "dtype: int64"
      ]
     },
     "execution_count": 12,
     "metadata": {},
     "output_type": "execute_result"
    }
   ],
   "source": [
    "# Check for missing values\n",
    "reviews_df.isnull().sum()"
   ]
  },
  {
   "cell_type": "markdown",
   "metadata": {},
   "source": [
    "## Meta dataset"
   ]
  },
  {
   "cell_type": "code",
   "execution_count": 13,
   "metadata": {},
   "outputs": [
    {
     "data": {
      "text/plain": [
       "title                    0\n",
       "average_rating           0\n",
       "rating_number            0\n",
       "price               215559\n",
       "parent_asin              0\n",
       "author                 311\n",
       "genre                    0\n",
       "publisher           596878\n",
       "publication_date     58595\n",
       "language             58085\n",
       "dtype: int64"
      ]
     },
     "execution_count": 13,
     "metadata": {},
     "output_type": "execute_result"
    }
   ],
   "source": [
    "# Check for missing values\n",
    "meta_df.isnull().sum()"
   ]
  },
  {
   "cell_type": "markdown",
   "metadata": {},
   "source": [
    "# Check for duplicated values"
   ]
  },
  {
   "cell_type": "markdown",
   "metadata": {},
   "source": [
    "## Reviews dataset"
   ]
  },
  {
   "cell_type": "code",
   "execution_count": 14,
   "metadata": {},
   "outputs": [],
   "source": [
    "# reviews_df_duplicates = reviews_df.duplicated().sum()\n",
    "\n",
    "# print(\"Number of duplicates in dataset:\", reviews_df_duplicates)"
   ]
  },
  {
   "cell_type": "code",
   "execution_count": 15,
   "metadata": {},
   "outputs": [],
   "source": [
    "# # Identify duplicate rows (considering all columns)\n",
    "# reviews_duplicate_rows = reviews_df[reviews_df.duplicated(keep=False)]\n",
    "\n",
    "# print(\"Duplicate rows in the dataset:\\n\", reviews_duplicate_rows)"
   ]
  },
  {
   "cell_type": "code",
   "execution_count": 16,
   "metadata": {},
   "outputs": [],
   "source": [
    "# # Filter for rows where 'verified_purchase' is FALSE\n",
    "# reviews_duplicate_rows_unverified = reviews_duplicate_rows[reviews_duplicate_rows[\"verified_purchase\"] == False]\n",
    "\n",
    "# # Print the filtered duplicate rows\n",
    "# print(\"Duplicate rows where 'verified_purchase' is FALSE:\\n\", reviews_duplicate_rows_unverified)"
   ]
  },
  {
   "cell_type": "markdown",
   "metadata": {},
   "source": [
    "Drop the duplicate rows"
   ]
  },
  {
   "cell_type": "code",
   "execution_count": 17,
   "metadata": {},
   "outputs": [],
   "source": [
    "# # Drop these rows from the original dataframe\n",
    "# reviews_df_noduplicates_verified = reviews_df.drop(reviews_duplicate_rows_unverified.index)\n",
    "\n",
    "# # Reset index for cleanliness (optional)\n",
    "# reviews_df_noduplicates_verified = reviews_df_noduplicates_verified.reset_index(drop=True)\n",
    "\n",
    "# # Check the new count of duplicates to confirm removal\n",
    "# print(\"Number of duplicates after dropping: \", reviews_df_noduplicates_verified.duplicated().sum())"
   ]
  },
  {
   "cell_type": "code",
   "execution_count": 18,
   "metadata": {},
   "outputs": [],
   "source": [
    "# # Drop duplicates while keeping the first occurrence\n",
    "# reviews_df = reviews_df.drop_duplicates()\n",
    "\n",
    "# # Check the new count of duplicates to confirm removal\n",
    "# print(\"Number of duplicates after dropping: \", reviews_df.duplicated().sum())"
   ]
  },
  {
   "cell_type": "markdown",
   "metadata": {},
   "source": [
    "## Meta dataset"
   ]
  },
  {
   "cell_type": "code",
   "execution_count": 19,
   "metadata": {},
   "outputs": [],
   "source": [
    "# Identify columns that contain unhashable types (lists)\n",
    "for col in meta_df.columns:\n",
    "    if meta_df[col].apply(lambda x: isinstance(x, list)).any():\n",
    "        print(f\"Column '{col}' contains lists\")"
   ]
  },
  {
   "cell_type": "code",
   "execution_count": 20,
   "metadata": {},
   "outputs": [],
   "source": [
    "# Convert list-like columns to tuples (hashable type)\n",
    "meta_df_separate = meta_df.apply(lambda col: col.map(lambda x: tuple(x) if isinstance(x, list) else x))"
   ]
  },
  {
   "cell_type": "code",
   "execution_count": 21,
   "metadata": {},
   "outputs": [
    {
     "name": "stdout",
     "output_type": "stream",
     "text": [
      "Number of duplicates in dataset:  0\n"
     ]
    }
   ],
   "source": [
    "meta_df_duplicates = meta_df_separate.duplicated().sum()\n",
    "print(\"Number of duplicates in dataset: \", meta_df_duplicates)"
   ]
  },
  {
   "cell_type": "markdown",
   "metadata": {},
   "source": [
    "# Describing dataset"
   ]
  },
  {
   "cell_type": "markdown",
   "metadata": {},
   "source": [
    "## Reviews dataset"
   ]
  },
  {
   "cell_type": "code",
   "execution_count": 22,
   "metadata": {},
   "outputs": [
    {
     "data": {
      "text/html": [
       "<div>\n",
       "<style scoped>\n",
       "    .dataframe tbody tr th:only-of-type {\n",
       "        vertical-align: middle;\n",
       "    }\n",
       "\n",
       "    .dataframe tbody tr th {\n",
       "        vertical-align: top;\n",
       "    }\n",
       "\n",
       "    .dataframe thead th {\n",
       "        text-align: right;\n",
       "    }\n",
       "</style>\n",
       "<table border=\"1\" class=\"dataframe\">\n",
       "  <thead>\n",
       "    <tr style=\"text-align: right;\">\n",
       "      <th></th>\n",
       "      <th>rating</th>\n",
       "      <th>timestamp</th>\n",
       "      <th>sentiment_score</th>\n",
       "    </tr>\n",
       "  </thead>\n",
       "  <tbody>\n",
       "    <tr>\n",
       "      <th>count</th>\n",
       "      <td>1.310329e+06</td>\n",
       "      <td>1.310329e+06</td>\n",
       "      <td>1.310329e+06</td>\n",
       "    </tr>\n",
       "    <tr>\n",
       "      <th>mean</th>\n",
       "      <td>4.542574e+00</td>\n",
       "      <td>1.616654e+12</td>\n",
       "      <td>8.562377e-01</td>\n",
       "    </tr>\n",
       "    <tr>\n",
       "      <th>std</th>\n",
       "      <td>8.846099e-01</td>\n",
       "      <td>3.944997e+10</td>\n",
       "      <td>3.353927e-01</td>\n",
       "    </tr>\n",
       "    <tr>\n",
       "      <th>min</th>\n",
       "      <td>1.000000e+00</td>\n",
       "      <td>1.546301e+12</td>\n",
       "      <td>1.660585e-04</td>\n",
       "    </tr>\n",
       "    <tr>\n",
       "      <th>25%</th>\n",
       "      <td>4.000000e+00</td>\n",
       "      <td>1.583061e+12</td>\n",
       "      <td>9.958175e-01</td>\n",
       "    </tr>\n",
       "    <tr>\n",
       "      <th>50%</th>\n",
       "      <td>5.000000e+00</td>\n",
       "      <td>1.619047e+12</td>\n",
       "      <td>9.996395e-01</td>\n",
       "    </tr>\n",
       "    <tr>\n",
       "      <th>75%</th>\n",
       "      <td>5.000000e+00</td>\n",
       "      <td>1.649959e+12</td>\n",
       "      <td>9.998422e-01</td>\n",
       "    </tr>\n",
       "    <tr>\n",
       "      <th>max</th>\n",
       "      <td>5.000000e+00</td>\n",
       "      <td>1.694615e+12</td>\n",
       "      <td>9.998949e-01</td>\n",
       "    </tr>\n",
       "  </tbody>\n",
       "</table>\n",
       "</div>"
      ],
      "text/plain": [
       "             rating     timestamp  sentiment_score\n",
       "count  1.310329e+06  1.310329e+06     1.310329e+06\n",
       "mean   4.542574e+00  1.616654e+12     8.562377e-01\n",
       "std    8.846099e-01  3.944997e+10     3.353927e-01\n",
       "min    1.000000e+00  1.546301e+12     1.660585e-04\n",
       "25%    4.000000e+00  1.583061e+12     9.958175e-01\n",
       "50%    5.000000e+00  1.619047e+12     9.996395e-01\n",
       "75%    5.000000e+00  1.649959e+12     9.998422e-01\n",
       "max    5.000000e+00  1.694615e+12     9.998949e-01"
      ]
     },
     "execution_count": 22,
     "metadata": {},
     "output_type": "execute_result"
    }
   ],
   "source": [
    "reviews_df.describe()"
   ]
  },
  {
   "cell_type": "markdown",
   "metadata": {},
   "source": [
    "## Meta dataset"
   ]
  },
  {
   "cell_type": "code",
   "execution_count": 23,
   "metadata": {},
   "outputs": [
    {
     "data": {
      "text/html": [
       "<div>\n",
       "<style scoped>\n",
       "    .dataframe tbody tr th:only-of-type {\n",
       "        vertical-align: middle;\n",
       "    }\n",
       "\n",
       "    .dataframe tbody tr th {\n",
       "        vertical-align: top;\n",
       "    }\n",
       "\n",
       "    .dataframe thead th {\n",
       "        text-align: right;\n",
       "    }\n",
       "</style>\n",
       "<table border=\"1\" class=\"dataframe\">\n",
       "  <thead>\n",
       "    <tr style=\"text-align: right;\">\n",
       "      <th></th>\n",
       "      <th>average_rating</th>\n",
       "      <th>rating_number</th>\n",
       "    </tr>\n",
       "  </thead>\n",
       "  <tbody>\n",
       "    <tr>\n",
       "      <th>count</th>\n",
       "      <td>1.591371e+06</td>\n",
       "      <td>1.591371e+06</td>\n",
       "    </tr>\n",
       "    <tr>\n",
       "      <th>mean</th>\n",
       "      <td>4.306478e+00</td>\n",
       "      <td>3.774429e+02</td>\n",
       "    </tr>\n",
       "    <tr>\n",
       "      <th>std</th>\n",
       "      <td>5.500675e-01</td>\n",
       "      <td>2.536585e+03</td>\n",
       "    </tr>\n",
       "    <tr>\n",
       "      <th>min</th>\n",
       "      <td>1.000000e+00</td>\n",
       "      <td>1.000000e+00</td>\n",
       "    </tr>\n",
       "    <tr>\n",
       "      <th>25%</th>\n",
       "      <td>4.100000e+00</td>\n",
       "      <td>9.000000e+00</td>\n",
       "    </tr>\n",
       "    <tr>\n",
       "      <th>50%</th>\n",
       "      <td>4.400000e+00</td>\n",
       "      <td>3.400000e+01</td>\n",
       "    </tr>\n",
       "    <tr>\n",
       "      <th>75%</th>\n",
       "      <td>4.600000e+00</td>\n",
       "      <td>1.590000e+02</td>\n",
       "    </tr>\n",
       "    <tr>\n",
       "      <th>max</th>\n",
       "      <td>5.000000e+00</td>\n",
       "      <td>6.104760e+05</td>\n",
       "    </tr>\n",
       "  </tbody>\n",
       "</table>\n",
       "</div>"
      ],
      "text/plain": [
       "       average_rating  rating_number\n",
       "count    1.591371e+06   1.591371e+06\n",
       "mean     4.306478e+00   3.774429e+02\n",
       "std      5.500675e-01   2.536585e+03\n",
       "min      1.000000e+00   1.000000e+00\n",
       "25%      4.100000e+00   9.000000e+00\n",
       "50%      4.400000e+00   3.400000e+01\n",
       "75%      4.600000e+00   1.590000e+02\n",
       "max      5.000000e+00   6.104760e+05"
      ]
     },
     "execution_count": 23,
     "metadata": {},
     "output_type": "execute_result"
    }
   ],
   "source": [
    "meta_df.describe()"
   ]
  },
  {
   "cell_type": "markdown",
   "metadata": {},
   "source": [
    "# Distribution of columns in Reviews dataset"
   ]
  },
  {
   "cell_type": "markdown",
   "metadata": {},
   "source": [
    "## rating"
   ]
  },
  {
   "cell_type": "code",
   "execution_count": 24,
   "metadata": {},
   "outputs": [
    {
     "data": {
      "image/png": "[encoded data removed]",
      "text/plain": [
       "<Figure size 1400x600 with 2 Axes>"
      ]
     },
     "metadata": {},
     "output_type": "display_data"
    }
   ],
   "source": [
    "# Set up the plot for Reviews countplot\n",
    "plt.figure(figsize=(14, 6))\n",
    "\n",
    "# Get unique ratings dynamically from reviews_df\n",
    "unique_ratings_reviews_df = sorted(reviews_df['rating'].dropna().unique())  \n",
    "set1_colors_reviews_df = sns.color_palette(\"Set1\", n_colors=len(unique_ratings_reviews_df))\n",
    "\n",
    "# Create a mapping of ratings to colors\n",
    "rating_colors_reviews_df = {rating: color for rating, color in zip(unique_ratings_reviews_df, set1_colors_reviews_df)}\n",
    "\n",
    "# Plot the countplot with hue set to 'rating'\n",
    "ax_reviews_df = plt.subplot(1, 2, 1)\n",
    "sns.countplot(x='rating', data=reviews_df, hue='rating', palette=rating_colors_reviews_df)\n",
    "\n",
    "# Add title and labels\n",
    "plt.title(\"Distribution of Ratings (Reviews Dataset)\")\n",
    "plt.xlabel(\"Ratings\")  \n",
    "plt.ylabel(\"Count\")    \n",
    "\n",
    "# Add number on top of each bar\n",
    "for p in ax_reviews_df.patches:\n",
    "    height = p.get_height()\n",
    "    if height > 0:\n",
    "        ax_reviews_df.annotate(f'{height}', \n",
    "                            (p.get_x() + p.get_width() / 2., height), \n",
    "                            ha='center', va='baseline',\n",
    "                            fontsize=8, color='black', xytext=(0, 5), \n",
    "                            textcoords='offset points')\n",
    "\n",
    "# Show legend outside the plot\n",
    "plt.legend(title='Ratings', loc='upper left', bbox_to_anchor=(1, 1))\n",
    "\n",
    "# Create a pie chart for the percentage distribution of ratings\n",
    "plt.subplot(1, 2, 2)\n",
    "rating_counts_reviews_df = reviews_df['rating'].value_counts()\n",
    "wedges_reviews_df, texts_reviews_df, autotexts_reviews_df = plt.pie(\n",
    "    rating_counts_reviews_df, \n",
    "    autopct='%1.1f%%', \n",
    "    startangle=140, \n",
    "    colors=[rating_colors_reviews_df[rating] for rating in rating_counts_reviews_df.index]\n",
    ")\n",
    "\n",
    "# Add title for the pie chart\n",
    "plt.title(\"Percentage Distribution of Ratings (Reviews Dataset)\")\n",
    "\n",
    "# Create a legend\n",
    "plt.legend(wedges_reviews_df, rating_counts_reviews_df.index, title=\"Ratings\", loc=\"best\", bbox_to_anchor=(1, 0, 0.5, 1))\n",
    "\n",
    "# Adjust layout and show the plot\n",
    "plt.tight_layout()  \n",
    "plt.show()"
   ]
  },
  {
   "cell_type": "markdown",
   "metadata": {},
   "source": [
    "## verified_purchase"
   ]
  },
  {
   "cell_type": "code",
   "execution_count": 25,
   "metadata": {},
   "outputs": [
    {
     "data": {
      "image/png": "[encoded data removed]",
      "text/plain": [
       "<Figure size 1400x600 with 2 Axes>"
      ]
     },
     "metadata": {},
     "output_type": "display_data"
    }
   ],
   "source": [
    "# Choose a color palette for verified purchase dataset\n",
    "unique_verified_purchase_reviews = reviews_df['verified_purchase'].unique()\n",
    "colors_verified_purchase_reviews = sns.color_palette(\"Set1\", n_colors=len(unique_verified_purchase_reviews))\n",
    "\n",
    "# Create a dictionary to map each verified purchase category to its corresponding color\n",
    "verified_purchase_color_map_reviews = dict(zip(unique_verified_purchase_reviews, colors_verified_purchase_reviews))\n",
    "\n",
    "# Set up the plot for Verified Purchase countplot and pie chart\n",
    "plt.figure(figsize=(14, 6))\n",
    "\n",
    "# Plot the countplot with hue for verified purchases in reviews_df\n",
    "ax_verified_purchase_reviews = plt.subplot(1, 2, 1)  # 1 row, 2 columns, 1st subplot\n",
    "sns.countplot(x='verified_purchase', data=reviews_df, hue='verified_purchase', palette=verified_purchase_color_map_reviews)\n",
    "\n",
    "# Add title\n",
    "plt.title(\"Distribution of Verified Purchases (Reviews Dataset)\")\n",
    "\n",
    "# Add axis labels\n",
    "plt.xlabel(\"Verified Purchase Status\")  \n",
    "plt.ylabel(\"Count\")                \n",
    "\n",
    "# Add number on top of each bar\n",
    "for p in ax_verified_purchase_reviews.patches:\n",
    "    height = p.get_height()\n",
    "    if height > 0:\n",
    "        ax_verified_purchase_reviews.annotate(f'{height}', \n",
    "                                              (p.get_x() + p.get_width() / 2., height), \n",
    "                                              ha='center', va='baseline',\n",
    "                                              fontsize=8, color='black', xytext=(0, 5), \n",
    "                                              textcoords='offset points')\n",
    "\n",
    "# Manually create legend for the countplot\n",
    "handles_verified_purchase_reviews = [plt.Line2D([0], [0], marker='o', color='w', label=str(status), \n",
    "                                                 markerfacecolor=verified_purchase_color_map_reviews[status]) \n",
    "                                     for status in unique_verified_purchase_reviews]\n",
    "plt.legend(handles=handles_verified_purchase_reviews, title='Verified Purchase', loc='upper left', bbox_to_anchor=(1, 1))\n",
    "\n",
    "# Create a pie chart for the percentage distribution of verified purchases\n",
    "plt.subplot(1, 2, 2)  # 1 row, 2 columns, 2nd subplot\n",
    "verified_purchase_counts_reviews = reviews_df['verified_purchase'].value_counts()\n",
    "wedges_verified_purchase_reviews, texts_verified_purchase_reviews, autotexts_verified_purchase_reviews = plt.pie(\n",
    "    verified_purchase_counts_reviews, \n",
    "    autopct='%1.1f%%', \n",
    "    startangle=140, \n",
    "    colors=[verified_purchase_color_map_reviews[status] for status in verified_purchase_counts_reviews.index]\n",
    ")\n",
    "\n",
    "# Add title for the pie chart\n",
    "plt.title(\"Percentage Distribution of Verified Purchases (Reviews Dataset)\")\n",
    "\n",
    "# Create a legend with the corresponding colors for the pie chart\n",
    "plt.legend(wedges_verified_purchase_reviews, verified_purchase_counts_reviews.index, title=\"Verified Purchase\", loc=\"best\", bbox_to_anchor=(1, 0, 0.5, 1))\n",
    "\n",
    "# Adjust layout and show the plot\n",
    "plt.tight_layout()  \n",
    "plt.show()"
   ]
  },
  {
   "cell_type": "markdown",
   "metadata": {},
   "source": [
    "## helpful_vote"
   ]
  },
  {
   "cell_type": "code",
   "execution_count": 26,
   "metadata": {},
   "outputs": [],
   "source": [
    "# # Set up the Seaborn style\n",
    "# sns.set(style=\"whitegrid\")\n",
    "\n",
    "# # Create the figure\n",
    "# plt.figure(figsize=(10, 5))\n",
    "\n",
    "# # Plot histogram for helpful_vote in reviews_df\n",
    "# hist_plot_helpful_vote = sns.histplot(reviews_df['helpful_vote'], bins=30, kde=True, color='cornflowerblue')\n",
    "\n",
    "# # Set title and labels\n",
    "# plt.title(\"Distribution of Helpful Vote (Reviews Dataset)\", fontsize=16)\n",
    "# plt.xlabel(\"Helpful Vote\", fontsize=14)\n",
    "# plt.ylabel(\"Frequency\", fontsize=14)\n",
    "# plt.xticks(fontsize=12)\n",
    "# plt.yticks(fontsize=12)\n",
    "\n",
    "# # Add counts on top of each bar\n",
    "# for p in hist_plot_helpful_vote.patches:\n",
    "#     height = p.get_height()\n",
    "#     if height > 0:  # Only annotate bars that are non-zero\n",
    "#         hist_plot_helpful_vote.annotate(f'{int(height)}', \n",
    "#                                         (p.get_x() + p.get_width() / 2., height), \n",
    "#                                         ha='center', va='baseline', fontsize=8, color='black', \n",
    "#                                         xytext=(0, 5), textcoords='offset points')\n",
    "\n",
    "# # Show the plot\n",
    "# plt.show()\n"
   ]
  },
  {
   "cell_type": "code",
   "execution_count": 27,
   "metadata": {},
   "outputs": [],
   "source": [
    "# # Set up the Seaborn style\n",
    "# sns.set(style=\"whitegrid\")\n",
    "\n",
    "# # Define a unique variable name for the column\n",
    "# helpful_vote_column = reviews_df['helpful_vote']\n",
    "\n",
    "# # Calculate Q1 (25th percentile) and Q3 (75th percentile)\n",
    "# Q1_helpful_vote = helpful_vote_column.quantile(0.25)\n",
    "# Q3_helpful_vote = helpful_vote_column.quantile(0.75)\n",
    "\n",
    "# # Compute Interquartile Range (IQR)\n",
    "# IQR_helpful_vote = Q3_helpful_vote - Q1_helpful_vote\n",
    "\n",
    "# # Define lower and upper bounds for outliers\n",
    "# lower_bound_helpful_vote = Q1_helpful_vote - 1.5 * IQR_helpful_vote\n",
    "# upper_bound_helpful_vote = Q3_helpful_vote + 1.5 * IQR_helpful_vote\n",
    "\n",
    "# # Identify outliers\n",
    "# outliers_helpful_vote = reviews_df[\n",
    "#     (helpful_vote_column < lower_bound_helpful_vote) | \n",
    "#     (helpful_vote_column > upper_bound_helpful_vote)\n",
    "# ]\n",
    "\n",
    "# # Display the outliers\n",
    "# print(f\"Number of outliers in helpful_vote: {len(outliers_helpful_vote)}\")\n",
    "\n",
    "# # Remove outliers based on IQR method\n",
    "# reviews_df_helpful_vote_no_outliers = reviews_df[\n",
    "#     (helpful_vote_column >= lower_bound_helpful_vote) & \n",
    "#     (helpful_vote_column <= upper_bound_helpful_vote)\n",
    "# ]\n",
    "\n",
    "# # Confirm removal\n",
    "# print(f\"Number of rows after removing outliers: {len(reviews_df_helpful_vote_no_outliers)}\")\n",
    "\n",
    "# # Create subplots for boxplots with and without outliers\n",
    "# fig, axes = plt.subplots(1, 2, figsize=(16, 6))\n",
    "\n",
    "# # Boxplot with outliers\n",
    "# sns.boxplot(x=helpful_vote_column, color='lightcoral', ax=axes[0])\n",
    "# axes[0].set_title(\"Boxplot of Helpful Vote (With Outliers)\", fontsize=14)\n",
    "# axes[0].set_xlabel(\"Helpful Vote\", fontsize=12)\n",
    "\n",
    "# # Boxplot without outliers\n",
    "# sns.boxplot(x=reviews_df_helpful_vote_no_outliers['helpful_vote'], color='lightcoral', ax=axes[1])\n",
    "# axes[1].set_title(\"Boxplot of Helpful Vote (Without Outliers)\", fontsize=14)\n",
    "# axes[1].set_xlabel(\"Helpful Vote\", fontsize=12)\n",
    "\n",
    "# # Display the plots side by side\n",
    "# plt.tight_layout()\n",
    "# plt.show()"
   ]
  },
  {
   "cell_type": "code",
   "execution_count": 28,
   "metadata": {},
   "outputs": [],
   "source": [
    "# # Set up the Seaborn style\n",
    "# sns.set(style=\"whitegrid\")\n",
    "\n",
    "# # Create the figure\n",
    "# plt.figure(figsize=(10, 5))\n",
    "\n",
    "# # Plot histogram for helpful_vote without outliers\n",
    "# hist_plot_helpful_vote_no_outliers = sns.histplot(reviews_df_helpful_vote_no_outliers['helpful_vote'], bins=30, kde=True, color='cornflowerblue')\n",
    "\n",
    "# # Set title and labels\n",
    "# plt.title(\"Distribution of Helpful Vote Without Outliers (Reviews Dataset)\", fontsize=16)\n",
    "# plt.xlabel(\"Helpful Vote\", fontsize=14)\n",
    "# plt.ylabel(\"Frequency\", fontsize=14)\n",
    "# plt.xticks(fontsize=12)\n",
    "# plt.yticks(fontsize=12)\n",
    "\n",
    "# # Add counts on top of each bar\n",
    "# for p in hist_plot_helpful_vote_no_outliers.patches:\n",
    "#     height = p.get_height()\n",
    "#     if height > 0:  # Only annotate bars that are non-zero\n",
    "#         hist_plot_helpful_vote_no_outliers.annotate(f'{int(height)}', \n",
    "#                                                    (p.get_x() + p.get_width() / 2., height), \n",
    "#                                                    ha='center', va='baseline', fontsize=8, color='black', \n",
    "#                                                    xytext=(0, 5), textcoords='offset points')\n",
    "\n",
    "# # Show the plot\n",
    "# plt.show()"
   ]
  },
  {
   "cell_type": "markdown",
   "metadata": {},
   "source": [
    "## timestamp"
   ]
  },
  {
   "cell_type": "code",
   "execution_count": 29,
   "metadata": {},
   "outputs": [],
   "source": [
    "# Convert timestamp from milliseconds to datetime\n",
    "reviews_df['date'] = pd.to_datetime(reviews_df['timestamp'], unit='ms')\n",
    "\n",
    "# Extract Year, Month, and Day into new columns\n",
    "reviews_df['year'] = reviews_df['date'].dt.year\n",
    "reviews_df['month'] = reviews_df['date'].dt.month\n",
    "reviews_df['day'] = reviews_df['date'].dt.day\n"
   ]
  },
  {
   "cell_type": "code",
   "execution_count": 30,
   "metadata": {},
   "outputs": [
    {
     "data": {
      "image/png": "[encoded data removed]",
      "text/plain": [
       "<Figure size 1200x600 with 1 Axes>"
      ]
     },
     "metadata": {},
     "output_type": "display_data"
    }
   ],
   "source": [
    "# Count the number of reviews per year\n",
    "reviews_per_year = reviews_df['year'].value_counts().sort_index()\n",
    "\n",
    "# Create a line plot\n",
    "plt.figure(figsize=(12, 6))\n",
    "sns.lineplot(x=reviews_per_year.index, y=reviews_per_year.values, marker='o')\n",
    "\n",
    "# Add title and labels\n",
    "plt.title(\"Distribution of Reviews by Year (Reviews Dataset)\")\n",
    "plt.xlabel(\"Year\")\n",
    "plt.ylabel(\"Number of Reviews\")\n",
    "\n",
    "# Annotate each point with the review count\n",
    "for x, y in zip(reviews_per_year.index, reviews_per_year.values):\n",
    "    plt.text(x, y, str(y), fontsize=8, ha='center', va='bottom')\n",
    "\n",
    "# Format x-axis to display all years clearly\n",
    "plt.xticks(reviews_per_year.index, rotation=45)\n",
    "\n",
    "# Show plot\n",
    "plt.tight_layout()\n",
    "plt.show()"
   ]
  },
  {
   "cell_type": "markdown",
   "metadata": {},
   "source": [
    "# Distribution of columns in Meta dataset"
   ]
  },
  {
   "cell_type": "markdown",
   "metadata": {},
   "source": [
    "## average_rating"
   ]
  },
  {
   "cell_type": "code",
   "execution_count": 31,
   "metadata": {},
   "outputs": [
    {
     "data": {
      "image/png": "[encoded data removed]",
      "text/plain": [
       "<Figure size 1000x500 with 1 Axes>"
      ]
     },
     "metadata": {},
     "output_type": "display_data"
    }
   ],
   "source": [
    "# Set up the Seaborn style\n",
    "sns.set(style=\"whitegrid\")\n",
    "\n",
    "# Create the figure\n",
    "plt.figure(figsize=(10, 5))\n",
    "\n",
    "# Plot histogram for average_rating in meta_df\n",
    "hist_plot_avg_rating = sns.histplot(meta_df['average_rating'], bins=30, kde=True, color='cornflowerblue')\n",
    "\n",
    "# Set title and labels\n",
    "plt.title(\"Distribution of Average Rating (Meta Dataset)\", fontsize=16)\n",
    "plt.xlabel(\"Average Rating\", fontsize=14)\n",
    "plt.ylabel(\"Frequency\", fontsize=14)\n",
    "plt.xticks(fontsize=12)\n",
    "plt.yticks(fontsize=12)\n",
    "\n",
    "# Add counts on top of each bar\n",
    "for p in hist_plot_avg_rating.patches:\n",
    "    height = p.get_height()\n",
    "    if height > 0:  # Only annotate bars that are non-zero\n",
    "        hist_plot_avg_rating.annotate(f'{int(height)}', \n",
    "                                      (p.get_x() + p.get_width() / 2., height), \n",
    "                                      ha='center', va='baseline', fontsize=8, color='black', \n",
    "                                      xytext=(0, 5), textcoords='offset points')\n",
    "\n",
    "# Show the plot\n",
    "plt.show()"
   ]
  },
  {
   "cell_type": "markdown",
   "metadata": {},
   "source": [
    "## rating_number"
   ]
  },
  {
   "cell_type": "code",
   "execution_count": 32,
   "metadata": {},
   "outputs": [
    {
     "data": {
      "image/png": "[encoded data removed]",
      "text/plain": [
       "<Figure size 1000x500 with 1 Axes>"
      ]
     },
     "metadata": {},
     "output_type": "display_data"
    }
   ],
   "source": [
    "# Set up the Seaborn style\n",
    "sns.set(style=\"whitegrid\")\n",
    "\n",
    "# Create the figure\n",
    "plt.figure(figsize=(10, 5))\n",
    "\n",
    "# Plot histogram for rating_number in meta_df\n",
    "hist_plot_rating_number = sns.histplot(meta_df['rating_number'], bins=30, kde=True, color='cornflowerblue')\n",
    "\n",
    "# Set title and labels\n",
    "plt.title(\"Distribution of Rating Number (Meta Dataset)\", fontsize=16)\n",
    "plt.xlabel(\"Rating Number\", fontsize=14)\n",
    "plt.ylabel(\"Frequency\", fontsize=14)\n",
    "plt.xticks(fontsize=12)\n",
    "plt.yticks(fontsize=12)\n",
    "\n",
    "# Add counts on top of each bar\n",
    "for p in hist_plot_rating_number.patches:\n",
    "    height = p.get_height()\n",
    "    if height > 0:  # Only annotate bars that are non-zero\n",
    "        hist_plot_rating_number.annotate(f'{int(height)}', \n",
    "                                         (p.get_x() + p.get_width() / 2., height), \n",
    "                                         ha='center', va='baseline', fontsize=8, color='black', \n",
    "                                         xytext=(0, 5), textcoords='offset points')\n",
    "\n",
    "# Show the plot\n",
    "plt.show()\n"
   ]
  },
  {
   "cell_type": "markdown",
   "metadata": {},
   "source": [
    "## price"
   ]
  },
  {
   "cell_type": "code",
   "execution_count": 33,
   "metadata": {},
   "outputs": [
    {
     "data": {
      "image/png": "[encoded data removed]",
      "text/plain": [
       "<Figure size 1000x500 with 1 Axes>"
      ]
     },
     "metadata": {},
     "output_type": "display_data"
    }
   ],
   "source": [
    "# Set up the Seaborn style\n",
    "sns.set(style=\"whitegrid\")\n",
    "\n",
    "# Create the figure\n",
    "plt.figure(figsize=(10, 5))\n",
    "\n",
    "# Plot histogram for price in meta_df\n",
    "hist_plot_price = sns.histplot(meta_df['price'], bins=30, kde=True, color='cornflowerblue')\n",
    "\n",
    "# Set title and labels\n",
    "plt.title(\"Distribution of Price (Meta Dataset)\", fontsize=16)\n",
    "plt.xlabel(\"Price\", fontsize=14)\n",
    "plt.ylabel(\"Frequency\", fontsize=14)\n",
    "plt.xticks(fontsize=12)\n",
    "plt.yticks(fontsize=12)\n",
    "\n",
    "# Add counts on top of each bar\n",
    "for p in hist_plot_price.patches:\n",
    "    height = p.get_height()\n",
    "    if height > 0:  # Only annotate bars that are non-zero\n",
    "        hist_plot_price.annotate(f'{int(height)}', \n",
    "                                 (p.get_x() + p.get_width() / 2., height), \n",
    "                                 ha='center', va='baseline', fontsize=8, color='black', \n",
    "                                 xytext=(0, 5), textcoords='offset points')\n",
    "\n",
    "# Show the plot\n",
    "plt.show()"
   ]
  },
  {
   "cell_type": "markdown",
   "metadata": {},
   "source": [
    "## print_length"
   ]
  },
  {
   "cell_type": "code",
   "execution_count": 34,
   "metadata": {},
   "outputs": [],
   "source": [
    "# # Set up the Seaborn style\n",
    "# sns.set(style=\"whitegrid\")\n",
    "\n",
    "# # Create the figure\n",
    "# plt.figure(figsize=(10, 5))\n",
    "\n",
    "# # Plot histogram for print_length in meta_df\n",
    "# hist_plot_print_length = sns.histplot(meta_df['print_length'], bins=30, kde=True, color='cornflowerblue')\n",
    "\n",
    "# # Set title and labels\n",
    "# plt.title(\"Distribution of Print Length (Meta Dataset)\", fontsize=16)\n",
    "# plt.xlabel(\"Print Length\", fontsize=14)\n",
    "# plt.ylabel(\"Frequency\", fontsize=14)\n",
    "# plt.xticks(fontsize=12)\n",
    "# plt.yticks(fontsize=12)\n",
    "\n",
    "# # Add counts on top of each bar\n",
    "# for p in hist_plot_print_length.patches:\n",
    "#     height = p.get_height()\n",
    "#     if height > 0:  # Only annotate bars that are non-zero\n",
    "#         hist_plot_print_length.annotate(f'{int(height)}', \n",
    "#                                         (p.get_x() + p.get_width() / 2., height), \n",
    "#                                         ha='center', va='baseline', fontsize=8, color='black', \n",
    "#                                         xytext=(0, 5), textcoords='offset points')\n",
    "\n",
    "# # Show the plot\n",
    "# plt.show()\n"
   ]
  },
  {
   "cell_type": "markdown",
   "metadata": {},
   "source": [
    "# MAB"
   ]
  },
  {
   "cell_type": "code",
   "execution_count": 35,
   "metadata": {},
   "outputs": [],
   "source": [
    "class ReplaySimulator(object):\n",
    "    def __init__(self, n_visits, reward_history, item_col_name, visitor_col_name, reward_col_name, n_iterations=1, random_seed=1):\n",
    "        # Set the random seed for reproducibility\n",
    "        np.random.seed(random_seed)\n",
    "\n",
    "        # Store input data and parameters\n",
    "        self.reward_history = reward_history\n",
    "        self.item_col_name = item_col_name\n",
    "        self.visitor_col_name = visitor_col_name\n",
    "        self.reward_col_name = reward_col_name\n",
    "\n",
    "        # Number of visits to replay/simulate\n",
    "        self.n_visits = n_visits\n",
    "\n",
    "        # Number of runs to average over\n",
    "        self.n_iterations = n_iterations\n",
    "\n",
    "        # Items under test\n",
    "        self.items = self.reward_history[self.item_col_name].unique()\n",
    "        self.n_items = len(self.items)\n",
    "\n",
    "        # Visitors in the historical reward_history\n",
    "        self.visitors = self.reward_history[self.visitor_col_name].unique()\n",
    "        self.n_visitors = len(self.visitors)\n",
    "\n",
    "    def reset(self):\n",
    "        # Initialize counters for item samples and rewards\n",
    "        self.n_item_samples = np.zeros(self.n_items)\n",
    "        self.n_item_rewards = np.zeros(self.n_items)\n",
    "\n",
    "    def replay(self):\n",
    "        # Store simulation results\n",
    "        results = []\n",
    "\n",
    "        for iteration in tqdm(range(0, self.n_iterations)):\n",
    "            # Reset counters for each iteration\n",
    "            self.reset()\n",
    "\n",
    "            total_rewards = 0\n",
    "            fraction_relevant = np.zeros(self.n_visits)\n",
    "\n",
    "            for visit in range(0, self.n_visits):\n",
    "                found_match = False\n",
    "                while not found_match:\n",
    "                    # Choose a random visitor\n",
    "                    visitor_idx = np.random.randint(self.n_visitors)\n",
    "                    visitor_id = self.visitors[visitor_idx]\n",
    "\n",
    "                    # Select an item to offer the visitor\n",
    "                    item_idx = self.select_item()\n",
    "                    item_id = self.items[item_idx]\n",
    "\n",
    "                    # Check if this interaction exists in the history\n",
    "                    reward = self.reward_history.query(\n",
    "                        '{} == @item_id and {} == @visitor_id'.format(self.item_col_name, self.visitor_col_name))[self.reward_col_name]\n",
    "\n",
    "                    found_match = reward.shape[0] > 0\n",
    "\n",
    "                reward_value = reward.iloc[0]\n",
    "\n",
    "                self.record_result(visit, item_idx, reward_value)\n",
    "\n",
    "                # Record metrics\n",
    "                total_rewards += reward_value\n",
    "                fraction_relevant[visit] = total_rewards * 1. / (visit + 1)\n",
    "\n",
    "                result = {}\n",
    "                result['iteration'] = iteration\n",
    "                result['visit'] = visit\n",
    "                result['item_id'] = item_id\n",
    "                result['visitor_id'] = visitor_id\n",
    "                result['reward'] = reward_value\n",
    "                result['total_reward'] = total_rewards\n",
    "                result['fraction_relevant'] = total_rewards * 1. / (visit + 1)\n",
    "\n",
    "                results.append(result)\n",
    "\n",
    "        return results\n",
    "\n",
    "    def select_item(self):\n",
    "        # This method selects an item randomly\n",
    "        return np.random.randint(self.n_items)\n",
    "\n",
    "    def record_result(self, visit, item_idx, reward):\n",
    "        # This method records the result of an interaction and updates item statistics\n",
    "\n",
    "        # Update the number of times the item has been sampled\n",
    "        self.n_item_samples[item_idx] += 1\n",
    "\n",
    "        # Update the fraction of time the item has resulted in a reward\n",
    "        alpha = 1. / self.n_item_samples[item_idx]\n",
    "        self.n_item_rewards[item_idx] += alpha * (reward - self.n_item_rewards[item_idx])"
   ]
  },
  {
   "cell_type": "code",
   "execution_count": 36,
   "metadata": {},
   "outputs": [],
   "source": [
    "class UCBReplayer(ReplaySimulator):\n",
    "    '''\n",
    "    A class to provide functionality for simulating the replayer method using Upper Confidence Bound (UCB) for decision-making.\n",
    "    '''\n",
    "    def __init__(self, n_visits, reward_history, item_col_name, visitor_col_name, reward_col_name, n_iterations=1):\n",
    "        super(UCBReplayer, self).__init__(n_visits, reward_history, item_col_name, visitor_col_name, reward_col_name, n_iterations)\n",
    "\n",
    "        # Initialize UCB statistics\n",
    "        # Tracks how many times each item has been selected\n",
    "        self.item_selection_counts = np.ones(self.n_items)  # Start at 1 to avoid division by zero\n",
    "        # Tracks the mean reward for each item\n",
    "        self.item_mean_rewards = np.zeros(self.n_items)  # Initialize rewards to zero\n",
    "\n",
    "    def select_item(self):\n",
    "        visit = np.sum(self.item_selection_counts)  # Total visits so far\n",
    "\n",
    "        if visit < self.n_items:  \n",
    "            return visit  # Ensure each item is selected at least once initially\n",
    "        else:\n",
    "            # Compute UCB scores\n",
    "            confidence_bounds = np.sqrt((2 * np.log(visit)) / self.item_selection_counts)\n",
    "            ucb_values = self.item_mean_rewards + confidence_bounds\n",
    "            \n",
    "            return np.argmax(ucb_values)  # Select the item with the highest UCB value\n",
    "\n",
    "    def record_result(self, visit, item_idx, reward):\n",
    "        # Convert reward to scalar if it's a Series/DataFrame\n",
    "        if isinstance(reward, (pd.Series, pd.DataFrame)):\n",
    "            reward = reward.values[0]\n",
    "\n",
    "        # Update selection count\n",
    "        self.item_selection_counts[item_idx] += 1\n",
    "\n",
    "        # Update mean reward using incremental mean formula\n",
    "        n = self.item_selection_counts[item_idx]\n",
    "        self.item_mean_rewards[item_idx] += (reward - self.item_mean_rewards[item_idx]) / n"
   ]
  },
  {
   "cell_type": "code",
   "execution_count": 37,
   "metadata": {},
   "outputs": [],
   "source": [
    "# Initiate the list of best 5 recommendations\n",
    "best_5_recommendations_fy = []"
   ]
  },
  {
   "cell_type": "code",
   "execution_count": 38,
   "metadata": {},
   "outputs": [],
   "source": [
    "merged_df = reviews_df.merge(meta_df, on='parent_asin', how='inner')"
   ]
  },
  {
   "cell_type": "code",
   "execution_count": 39,
   "metadata": {},
   "outputs": [
    {
     "data": {
      "text/html": [
       "<div>\n",
       "<style scoped>\n",
       "    .dataframe tbody tr th:only-of-type {\n",
       "        vertical-align: middle;\n",
       "    }\n",
       "\n",
       "    .dataframe tbody tr th {\n",
       "        vertical-align: top;\n",
       "    }\n",
       "\n",
       "    .dataframe thead th {\n",
       "        text-align: right;\n",
       "    }\n",
       "</style>\n",
       "<table border=\"1\" class=\"dataframe\">\n",
       "  <thead>\n",
       "    <tr style=\"text-align: right;\">\n",
       "      <th></th>\n",
       "      <th>rating</th>\n",
       "      <th>title_x</th>\n",
       "      <th>text</th>\n",
       "      <th>parent_asin</th>\n",
       "      <th>user_id</th>\n",
       "      <th>timestamp</th>\n",
       "      <th>verified_purchase</th>\n",
       "      <th>sentiment_score</th>\n",
       "      <th>date</th>\n",
       "      <th>year</th>\n",
       "      <th>...</th>\n",
       "      <th>day</th>\n",
       "      <th>title_y</th>\n",
       "      <th>average_rating</th>\n",
       "      <th>rating_number</th>\n",
       "      <th>price</th>\n",
       "      <th>author</th>\n",
       "      <th>genre</th>\n",
       "      <th>publisher</th>\n",
       "      <th>publication_date</th>\n",
       "      <th>language</th>\n",
       "    </tr>\n",
       "  </thead>\n",
       "  <tbody>\n",
       "    <tr>\n",
       "      <th>0</th>\n",
       "      <td>5.0</td>\n",
       "      <td>Beware....</td>\n",
       "      <td>Another fun story in the series. Jessica has h...</td>\n",
       "      <td>B0871P5Q8P</td>\n",
       "      <td>AFFZVSTUS3U2ZD22A2NPZSKOCPGQ</td>\n",
       "      <td>1588609906893</td>\n",
       "      <td>True</td>\n",
       "      <td>0.970070</td>\n",
       "      <td>2020-05-04 16:31:46.893</td>\n",
       "      <td>2020</td>\n",
       "      <td>...</td>\n",
       "      <td>4</td>\n",
       "      <td>A Dead Nephew Jessica Huntington Desert Cities...</td>\n",
       "      <td>4.6</td>\n",
       "      <td>284</td>\n",
       "      <td>0.0</td>\n",
       "      <td>Anna Celeste Burke (Author),  Peggy Hyndman (E...</td>\n",
       "      <td>Mystery, Thriller &amp; Suspense</td>\n",
       "      <td>NaN</td>\n",
       "      <td>April 11, 2020</td>\n",
       "      <td>English</td>\n",
       "    </tr>\n",
       "    <tr>\n",
       "      <th>1</th>\n",
       "      <td>5.0</td>\n",
       "      <td>Action page turner</td>\n",
       "      <td>This is such a good read..a real page turner!!...</td>\n",
       "      <td>B07YZPBN4T</td>\n",
       "      <td>AFFZVSTUS3U2ZD22A2NPZSKOCPGQ</td>\n",
       "      <td>1587964626726</td>\n",
       "      <td>True</td>\n",
       "      <td>0.994910</td>\n",
       "      <td>2020-04-27 05:17:06.726</td>\n",
       "      <td>2020</td>\n",
       "      <td>...</td>\n",
       "      <td>27</td>\n",
       "      <td>Loss Recovery (Alaskan Security-Team Rogue Boo...</td>\n",
       "      <td>4.4</td>\n",
       "      <td>5674</td>\n",
       "      <td>0.0</td>\n",
       "      <td>Jemma Westbrook ,  Janice Whiteaker</td>\n",
       "      <td>Literature &amp; Fiction</td>\n",
       "      <td>NaN</td>\n",
       "      <td>December 27, 2019</td>\n",
       "      <td>English</td>\n",
       "    </tr>\n",
       "    <tr>\n",
       "      <th>2</th>\n",
       "      <td>5.0</td>\n",
       "      <td>Strong seals, strong women</td>\n",
       "      <td>What an amazing storyline. Murph is the main m...</td>\n",
       "      <td>B0859J266D</td>\n",
       "      <td>AFFZVSTUS3U2ZD22A2NPZSKOCPGQ</td>\n",
       "      <td>1586927648767</td>\n",
       "      <td>True</td>\n",
       "      <td>0.999575</td>\n",
       "      <td>2020-04-15 05:14:08.767</td>\n",
       "      <td>2020</td>\n",
       "      <td>...</td>\n",
       "      <td>15</td>\n",
       "      <td>SEAL's Sky (Special Forces: Operation Alpha) (...</td>\n",
       "      <td>4.6</td>\n",
       "      <td>1410</td>\n",
       "      <td>0.0</td>\n",
       "      <td>Lynne St. James ,  Operation  Alpha</td>\n",
       "      <td>Romance</td>\n",
       "      <td>NaN</td>\n",
       "      <td>March 10, 2020</td>\n",
       "      <td>English</td>\n",
       "    </tr>\n",
       "    <tr>\n",
       "      <th>3</th>\n",
       "      <td>5.0</td>\n",
       "      <td>Another award winner for this author.</td>\n",
       "      <td>This story was much better than I expected..an...</td>\n",
       "      <td>B07R5CL3P1</td>\n",
       "      <td>AFFZVSTUS3U2ZD22A2NPZSKOCPGQ</td>\n",
       "      <td>1575174798385</td>\n",
       "      <td>True</td>\n",
       "      <td>0.620722</td>\n",
       "      <td>2019-12-01 04:33:18.385</td>\n",
       "      <td>2019</td>\n",
       "      <td>...</td>\n",
       "      <td>1</td>\n",
       "      <td>The Wishing Cradle</td>\n",
       "      <td>4.7</td>\n",
       "      <td>71</td>\n",
       "      <td>0.0</td>\n",
       "      <td>Donna Walo Clancy</td>\n",
       "      <td>Literature &amp; Fiction</td>\n",
       "      <td>NaN</td>\n",
       "      <td>NaN</td>\n",
       "      <td>NaN</td>\n",
       "    </tr>\n",
       "    <tr>\n",
       "      <th>4</th>\n",
       "      <td>5.0</td>\n",
       "      <td>Wonderful story!!!</td>\n",
       "      <td>Well just when you think this series cant get ...</td>\n",
       "      <td>B07XTQ39VK</td>\n",
       "      <td>AFFZVSTUS3U2ZD22A2NPZSKOCPGQ</td>\n",
       "      <td>1573664213687</td>\n",
       "      <td>True</td>\n",
       "      <td>0.994292</td>\n",
       "      <td>2019-11-13 16:56:53.687</td>\n",
       "      <td>2019</td>\n",
       "      <td>...</td>\n",
       "      <td>13</td>\n",
       "      <td>Fall's Killer Vintage Calla Lily Mystery #3 (C...</td>\n",
       "      <td>4.6</td>\n",
       "      <td>446</td>\n",
       "      <td>0.0</td>\n",
       "      <td>Anna Celeste Burke ,  Peggy Hyndman (Editor)</td>\n",
       "      <td>Mystery, Thriller &amp; Suspense</td>\n",
       "      <td>NaN</td>\n",
       "      <td>November 13, 2019</td>\n",
       "      <td>English</td>\n",
       "    </tr>\n",
       "  </tbody>\n",
       "</table>\n",
       "<p>5 rows × 21 columns</p>\n",
       "</div>"
      ],
      "text/plain": [
       "   rating                                title_x  \\\n",
       "0     5.0                             Beware....   \n",
       "1     5.0                     Action page turner   \n",
       "2     5.0             Strong seals, strong women   \n",
       "3     5.0  Another award winner for this author.   \n",
       "4     5.0                     Wonderful story!!!   \n",
       "\n",
       "                                                text parent_asin  \\\n",
       "0  Another fun story in the series. Jessica has h...  B0871P5Q8P   \n",
       "1  This is such a good read..a real page turner!!...  B07YZPBN4T   \n",
       "2  What an amazing storyline. Murph is the main m...  B0859J266D   \n",
       "3  This story was much better than I expected..an...  B07R5CL3P1   \n",
       "4  Well just when you think this series cant get ...  B07XTQ39VK   \n",
       "\n",
       "                        user_id      timestamp  verified_purchase  \\\n",
       "0  AFFZVSTUS3U2ZD22A2NPZSKOCPGQ  1588609906893               True   \n",
       "1  AFFZVSTUS3U2ZD22A2NPZSKOCPGQ  1587964626726               True   \n",
       "2  AFFZVSTUS3U2ZD22A2NPZSKOCPGQ  1586927648767               True   \n",
       "3  AFFZVSTUS3U2ZD22A2NPZSKOCPGQ  1575174798385               True   \n",
       "4  AFFZVSTUS3U2ZD22A2NPZSKOCPGQ  1573664213687               True   \n",
       "\n",
       "   sentiment_score                    date  year  ...  day  \\\n",
       "0         0.970070 2020-05-04 16:31:46.893  2020  ...    4   \n",
       "1         0.994910 2020-04-27 05:17:06.726  2020  ...   27   \n",
       "2         0.999575 2020-04-15 05:14:08.767  2020  ...   15   \n",
       "3         0.620722 2019-12-01 04:33:18.385  2019  ...    1   \n",
       "4         0.994292 2019-11-13 16:56:53.687  2019  ...   13   \n",
       "\n",
       "                                             title_y average_rating  \\\n",
       "0  A Dead Nephew Jessica Huntington Desert Cities...            4.6   \n",
       "1  Loss Recovery (Alaskan Security-Team Rogue Boo...            4.4   \n",
       "2  SEAL's Sky (Special Forces: Operation Alpha) (...            4.6   \n",
       "3                                 The Wishing Cradle            4.7   \n",
       "4  Fall's Killer Vintage Calla Lily Mystery #3 (C...            4.6   \n",
       "\n",
       "   rating_number  price                                             author  \\\n",
       "0            284    0.0  Anna Celeste Burke (Author),  Peggy Hyndman (E...   \n",
       "1           5674    0.0                Jemma Westbrook ,  Janice Whiteaker   \n",
       "2           1410    0.0                Lynne St. James ,  Operation  Alpha   \n",
       "3             71    0.0                                  Donna Walo Clancy   \n",
       "4            446    0.0       Anna Celeste Burke ,  Peggy Hyndman (Editor)   \n",
       "\n",
       "                          genre publisher   publication_date language  \n",
       "0  Mystery, Thriller & Suspense       NaN     April 11, 2020  English  \n",
       "1          Literature & Fiction       NaN  December 27, 2019  English  \n",
       "2                       Romance       NaN     March 10, 2020  English  \n",
       "3          Literature & Fiction       NaN                NaN      NaN  \n",
       "4  Mystery, Thriller & Suspense       NaN  November 13, 2019  English  \n",
       "\n",
       "[5 rows x 21 columns]"
      ]
     },
     "execution_count": 39,
     "metadata": {},
     "output_type": "execute_result"
    }
   ],
   "source": [
    "merged_df.head()"
   ]
  },
  {
   "cell_type": "code",
   "execution_count": 40,
   "metadata": {},
   "outputs": [],
   "source": [
    "# Retrieve the required columns and create a new dataframe\n",
    "mab_df = merged_df[['user_id', 'parent_asin', 'sentiment_score', 'title_y']].copy()"
   ]
  },
  {
   "cell_type": "code",
   "execution_count": 41,
   "metadata": {},
   "outputs": [],
   "source": [
    "# Take the first 50,000 rows from mab_df\n",
    "mab_df = mab_df.iloc[:50000]"
   ]
  },
  {
   "cell_type": "code",
   "execution_count": 42,
   "metadata": {},
   "outputs": [],
   "source": [
    "# Retrieve the required columns and create a new dataframe\n",
    "# mab_df = merged_df[['user_id', 'parent_asin', 'rating', 'title_y']].copy()"
   ]
  },
  {
   "cell_type": "code",
   "execution_count": 43,
   "metadata": {},
   "outputs": [],
   "source": [
    "threshold = 0.8  # Adjust this based on data distribution\n",
    "mab_df['like'] = mab_df['sentiment_score'] >= threshold\n",
    "\n",
    "# Map user_id and parent_asin to unique integer indices\n",
    "user_id_mapping = {user: idx for idx, user in enumerate(mab_df['user_id'].unique())}\n",
    "parent_asin_mapping = {parent_asin: idx for idx, parent_asin in enumerate(mab_df['parent_asin'].unique())}\n",
    "\n",
    "# Map the original user_id and parent_asin columns in mab_df to their corresponding integer values\n",
    "mab_df['user_id_int'] = mab_df['user_id'].map(user_id_mapping)\n",
    "mab_df['parent_asin_int'] = mab_df['parent_asin'].map(parent_asin_mapping)"
   ]
  },
  {
   "cell_type": "code",
   "execution_count": 44,
   "metadata": {},
   "outputs": [],
   "source": [
    "# Updated reward history with integer mappings\n",
    "reward_history = mab_df[['user_id_int', 'parent_asin_int', 'like']]\n",
    "\n",
    "# Columns for the simulator\n",
    "item_col_name = 'parent_asin_int'\n",
    "visitor_col_name = 'user_id_int'\n",
    "reward_col_name = 'like'\n",
    "\n",
    "# Parameters for the simulation\n",
    "n_visits = 100\n",
    "n_iterations = 20\n",
    "n_test_visits = 1000"
   ]
  },
  {
   "cell_type": "code",
   "execution_count": 45,
   "metadata": {},
   "outputs": [
    {
     "name": "stderr",
     "output_type": "stream",
     "text": [
      "100%|██████████| 20/20 [39:54<00:00, 119.71s/it]\n"
     ]
    }
   ],
   "source": [
    "ucb_results_fy = UCBReplayer(n_visits, reward_history,\n",
    "                             item_col_name, visitor_col_name, reward_col_name,\n",
    "                             n_iterations=n_iterations).replay()\n",
    "\n",
    "ucb_results_fy_df = pd.DataFrame(ucb_results_fy)\n"
   ]
  },
  {
   "cell_type": "code",
   "execution_count": 46,
   "metadata": {},
   "outputs": [],
   "source": [
    "ucb_results_fy_df.to_csv('/Users/ShanShan/BT4301/MySQL/test/cleaned/results2/ucb/sentiment/ucb_results_sentiment_100.csv')"
   ]
  },
  {
   "cell_type": "code",
   "execution_count": 47,
   "metadata": {},
   "outputs": [],
   "source": [
    "ucb_results_fy_df = pd.read_csv('/Users/ShanShan/BT4301/MySQL/test/cleaned/results2/ucb/sentiment/ucb_results_sentiment_100.csv')"
   ]
  },
  {
   "cell_type": "code",
   "execution_count": 48,
   "metadata": {},
   "outputs": [],
   "source": [
    "# Create a dataframe with running totals of how many times each recommendation was taken\n",
    "ucb_fy_running_ttl = ucb_results_fy_df.query('iteration == 0') \\\n",
    "                                .assign(selected=1) \\\n",
    "                                .pivot(index='visit', columns='item_id', values='selected') \\\n",
    "                                .fillna(0) \\\n",
    "                                .cumsum(axis=0) \\\n",
    "                                .reset_index()\n",
    "\n",
    "# Scale the value by the visit number to get turn the running total into a percentage\n",
    "ucb_fy_running_ttl.iloc[:,1:] = ucb_fy_running_ttl.iloc[:,1:].div((ucb_fy_running_ttl.visit + 1)/100, axis=0)"
   ]
  },
  {
   "cell_type": "code",
   "execution_count": 49,
   "metadata": {},
   "outputs": [
    {
     "data": {
      "text/plain": [
       "item_id\n",
       "0    1.0\n",
       "1    1.0\n",
       "2    1.0\n",
       "3    1.0\n",
       "4    1.0\n",
       "Name: 99, dtype: float64"
      ]
     },
     "execution_count": 49,
     "metadata": {},
     "output_type": "execute_result"
    }
   ],
   "source": [
    "# View the results in the final iteration in descending order\n",
    "final_recommendations_ucb_fy = ucb_fy_running_ttl.iloc[-1, 1:].nlargest()\n",
    "final_recommendations_ucb_fy"
   ]
  },
  {
   "cell_type": "code",
   "execution_count": 50,
   "metadata": {},
   "outputs": [],
   "source": [
    "# Aggregate results for each user and item to find the total rewards\n",
    "aggregated_results = ucb_results_fy_df.groupby(['visitor_id', 'item_id'])['reward'].sum().reset_index()\n",
    "\n",
    "# Sort the results by total reward per user and item\n",
    "aggregated_results['rank'] = aggregated_results.groupby('visitor_id')['reward'].rank(ascending=False, method='first')\n",
    "\n",
    "# Recommend the top 5 items for each user based on their total reward\n",
    "# top_5_recommendations = aggregated_results[aggregated_results['rank'] <= 5]"
   ]
  },
  {
   "cell_type": "code",
   "execution_count": 52,
   "metadata": {},
   "outputs": [],
   "source": [
    "# Reverse the mappings to map back from integers to the original values\n",
    "user_id_mapping_reverse = {v: k for k, v in user_id_mapping.items()}\n",
    "\n",
    "parent_asin_mapping_reverse = {v: k for k, v in parent_asin_mapping.items()}\n",
    "\n",
    "# Map visitor_id back to user_id\n",
    "aggregated_results['user_id'] = aggregated_results['visitor_id'].map(user_id_mapping_reverse)\n",
    "\n",
    "# Map item_id back to parent_asin\n",
    "aggregated_results['parent_asin'] = aggregated_results['item_id'].map(parent_asin_mapping_reverse)\n"
   ]
  },
  {
   "cell_type": "code",
   "execution_count": 53,
   "metadata": {},
   "outputs": [],
   "source": [
    "# Merge the aggregated_results with mab_df to get title_y based on parent_asin_int\n",
    "aggregated_results = aggregated_results.merge(mab_df[['parent_asin', 'title_y']], on='parent_asin', how='inner')"
   ]
  },
  {
   "cell_type": "code",
   "execution_count": 54,
   "metadata": {},
   "outputs": [
    {
     "data": {
      "text/plain": [
       "(4255, 7)"
      ]
     },
     "execution_count": 54,
     "metadata": {},
     "output_type": "execute_result"
    }
   ],
   "source": [
    "aggregated_results.shape"
   ]
  },
  {
   "cell_type": "code",
   "execution_count": 55,
   "metadata": {},
   "outputs": [],
   "source": [
    "# Drop duplicates based on the 'parent_asin_int' column\n",
    "aggregated_results_no_duplicates = aggregated_results.drop_duplicates(subset='parent_asin', keep='first')"
   ]
  },
  {
   "cell_type": "code",
   "execution_count": 56,
   "metadata": {},
   "outputs": [
    {
     "data": {
      "text/plain": [
       "(2000, 7)"
      ]
     },
     "execution_count": 56,
     "metadata": {},
     "output_type": "execute_result"
    }
   ],
   "source": [
    "aggregated_results_no_duplicates.shape"
   ]
  },
  {
   "cell_type": "code",
   "execution_count": 57,
   "metadata": {},
   "outputs": [],
   "source": [
    "# Output the top 5 recommendations for each user\n",
    "top_5_recommendations_for_users = aggregated_results_no_duplicates.groupby('visitor_id')['title_y'].apply(list).reset_index()"
   ]
  },
  {
   "cell_type": "code",
   "execution_count": 58,
   "metadata": {},
   "outputs": [],
   "source": [
    "# Create a new column that stores the length of each list\n",
    "top_5_recommendations_for_users['num_recommendations'] = top_5_recommendations_for_users['title_y'].apply(len)"
   ]
  },
  {
   "cell_type": "code",
   "execution_count": 59,
   "metadata": {},
   "outputs": [
    {
     "data": {
      "text/html": [
       "<div>\n",
       "<style scoped>\n",
       "    .dataframe tbody tr th:only-of-type {\n",
       "        vertical-align: middle;\n",
       "    }\n",
       "\n",
       "    .dataframe tbody tr th {\n",
       "        vertical-align: top;\n",
       "    }\n",
       "\n",
       "    .dataframe thead th {\n",
       "        text-align: right;\n",
       "    }\n",
       "</style>\n",
       "<table border=\"1\" class=\"dataframe\">\n",
       "  <thead>\n",
       "    <tr style=\"text-align: right;\">\n",
       "      <th></th>\n",
       "      <th>visitor_id</th>\n",
       "      <th>title_y</th>\n",
       "      <th>num_recommendations</th>\n",
       "    </tr>\n",
       "  </thead>\n",
       "  <tbody>\n",
       "    <tr>\n",
       "      <th>0</th>\n",
       "      <td>0</td>\n",
       "      <td>[A Dead Nephew Jessica Huntington Desert Citie...</td>\n",
       "      <td>14</td>\n",
       "    </tr>\n",
       "    <tr>\n",
       "      <th>1</th>\n",
       "      <td>1</td>\n",
       "      <td>[Clueless (The Fairy Brew Book 1), Paper Mache...</td>\n",
       "      <td>8</td>\n",
       "    </tr>\n",
       "    <tr>\n",
       "      <th>2</th>\n",
       "      <td>2</td>\n",
       "      <td>[Promises (Love's Valley Book 5), The Woman Wh...</td>\n",
       "      <td>4</td>\n",
       "    </tr>\n",
       "    <tr>\n",
       "      <th>3</th>\n",
       "      <td>3</td>\n",
       "      <td>[One Bossy Dare: An Enemies to Lovers Romance ...</td>\n",
       "      <td>16</td>\n",
       "    </tr>\n",
       "    <tr>\n",
       "      <th>4</th>\n",
       "      <td>4</td>\n",
       "      <td>[The Murder by Month Romcom Mystery Summer Bun...</td>\n",
       "      <td>9</td>\n",
       "    </tr>\n",
       "    <tr>\n",
       "      <th>...</th>\n",
       "      <td>...</td>\n",
       "      <td>...</td>\n",
       "      <td>...</td>\n",
       "    </tr>\n",
       "    <tr>\n",
       "      <th>476</th>\n",
       "      <td>2557</td>\n",
       "      <td>[Recollections of a Private Soldier in the Arm...</td>\n",
       "      <td>1</td>\n",
       "    </tr>\n",
       "    <tr>\n",
       "      <th>477</th>\n",
       "      <td>2561</td>\n",
       "      <td>[The Son and Heir: A Memoir]</td>\n",
       "      <td>1</td>\n",
       "    </tr>\n",
       "    <tr>\n",
       "      <th>478</th>\n",
       "      <td>2572</td>\n",
       "      <td>[Fortune and Glory: Tantalizing Twenty-Seven (...</td>\n",
       "      <td>1</td>\n",
       "    </tr>\n",
       "    <tr>\n",
       "      <th>479</th>\n",
       "      <td>2574</td>\n",
       "      <td>[A Kingdom of Ruin (Deliciously Dark Fairytale...</td>\n",
       "      <td>1</td>\n",
       "    </tr>\n",
       "    <tr>\n",
       "      <th>480</th>\n",
       "      <td>2582</td>\n",
       "      <td>[Sex and Vanity: A Novel]</td>\n",
       "      <td>1</td>\n",
       "    </tr>\n",
       "  </tbody>\n",
       "</table>\n",
       "<p>481 rows × 3 columns</p>\n",
       "</div>"
      ],
      "text/plain": [
       "     visitor_id                                            title_y  \\\n",
       "0             0  [A Dead Nephew Jessica Huntington Desert Citie...   \n",
       "1             1  [Clueless (The Fairy Brew Book 1), Paper Mache...   \n",
       "2             2  [Promises (Love's Valley Book 5), The Woman Wh...   \n",
       "3             3  [One Bossy Dare: An Enemies to Lovers Romance ...   \n",
       "4             4  [The Murder by Month Romcom Mystery Summer Bun...   \n",
       "..          ...                                                ...   \n",
       "476        2557  [Recollections of a Private Soldier in the Arm...   \n",
       "477        2561                       [The Son and Heir: A Memoir]   \n",
       "478        2572  [Fortune and Glory: Tantalizing Twenty-Seven (...   \n",
       "479        2574  [A Kingdom of Ruin (Deliciously Dark Fairytale...   \n",
       "480        2582                          [Sex and Vanity: A Novel]   \n",
       "\n",
       "     num_recommendations  \n",
       "0                     14  \n",
       "1                      8  \n",
       "2                      4  \n",
       "3                     16  \n",
       "4                      9  \n",
       "..                   ...  \n",
       "476                    1  \n",
       "477                    1  \n",
       "478                    1  \n",
       "479                    1  \n",
       "480                    1  \n",
       "\n",
       "[481 rows x 3 columns]"
      ]
     },
     "execution_count": 59,
     "metadata": {},
     "output_type": "execute_result"
    }
   ],
   "source": [
    "top_5_recommendations_for_users"
   ]
  },
  {
   "cell_type": "code",
   "execution_count": 60,
   "metadata": {},
   "outputs": [],
   "source": [
    "top_5_recommendations_for_users.to_csv('/Users/ShanShan/BT4301/MySQL/test/cleaned/results2/ucb/sentiment/ucb_recommended_books_sentiment_100.csv')"
   ]
  }
 ],
 "metadata": {
  "kernelspec": {
   "display_name": "venv",
   "language": "python",
   "name": "python3"
  },
  "language_info": {
   "codemirror_mode": {
    "name": "ipython",
    "version": 3
   },
   "file_extension": ".py",
   "mimetype": "text/x-python",
   "name": "python",
   "nbconvert_exporter": "python",
   "pygments_lexer": "ipython3",
   "version": "3.12.1"
  }
 },
 "nbformat": 4,
 "nbformat_minor": 2
}
